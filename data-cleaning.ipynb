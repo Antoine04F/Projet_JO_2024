{
 "cells": [
  {
   "cell_type": "markdown",
   "id": "af1232fb-12f2-4a61-8963-45f5f9e26f0e",
   "metadata": {},
   "source": [
    "<div style=\"text-align:center;\">\n",
    "    <div class=\"birk\">\n",
    "        <img src=\"JO2024.png\">\n",
    "    </div>\n",
    "</div>"
   ]
  },
  {
   "cell_type": "markdown",
   "id": "903de9a1-d374-430a-8b90-92542380b2e0",
   "metadata": {},
   "source": [
    "<div style=\"background-color:#B96CE6; padding:0px 0; color:white; text-align:center;\">\n",
    "    <h1 style=\"padding-left:50px; font-size:100px; font-weight: bold;\">PROJET JO 2024</h1>\n",
    "</div>"
   ]
  },
  {
   "cell_type": "markdown",
   "id": "3ef6b745-c984-493d-8508-57d280da8872",
   "metadata": {},
   "source": [
    "<div style=\"background-color:#0082C7;padding:0px; color:white;\"text-align:center;\">\n",
    "    <h2 style=\"padding-left: 40px;\">IMPORTATION DES LIBRAIRIES </h2>\n",
    "</div>"
   ]
  },
  {
   "cell_type": "code",
   "execution_count": 1,
   "id": "492c1a94-4904-41ec-b819-1f1b0cf1e0bd",
   "metadata": {},
   "outputs": [],
   "source": [
    "from bs4 import BeautifulSoup\n",
    "import requests\n",
    "import pandas as pd"
   ]
  },
  {
   "cell_type": "markdown",
   "id": "f0714ee7-f1a4-4c51-a69b-122b0c968cbe",
   "metadata": {},
   "source": [
    "<div style=\"background-color:#0082C7;padding:0px; color:white;\">\n",
    "    <h2 style=\"padding-left: 40px;\">IMPORTATION DES DONNEES</h2>\n",
    "</div>"
   ]
  },
  {
   "cell_type": "code",
   "execution_count": 2,
   "id": "583c8b54-0a56-47e8-bd74-76c52211afe9",
   "metadata": {},
   "outputs": [],
   "source": [
    "df_final = pd.read_csv(\"df_final.csv\")"
   ]
  },
  {
   "cell_type": "markdown",
   "id": "dd6253a6-8436-41f2-b4ef-bc77a6e33326",
   "metadata": {},
   "source": [
    "<div style=\"background-color:#01A652;padding:0px; color:white;\">\n",
    "    <h4 style=\"padding-left: 40px;\">Information sur les données</h3>\n",
    "</div>"
   ]
  },
  {
   "cell_type": "code",
   "execution_count": 3,
   "id": "3c69af48-cf08-4a2c-a17d-009cec2b66d0",
   "metadata": {},
   "outputs": [
    {
     "data": {
      "text/html": [
       "<div>\n",
       "<style scoped>\n",
       "    .dataframe tbody tr th:only-of-type {\n",
       "        vertical-align: middle;\n",
       "    }\n",
       "\n",
       "    .dataframe tbody tr th {\n",
       "        vertical-align: top;\n",
       "    }\n",
       "\n",
       "    .dataframe thead th {\n",
       "        text-align: right;\n",
       "    }\n",
       "</style>\n",
       "<table border=\"1\" class=\"dataframe\">\n",
       "  <thead>\n",
       "    <tr style=\"text-align: right;\">\n",
       "      <th></th>\n",
       "      <th>medal</th>\n",
       "      <th>country</th>\n",
       "      <th>athlete_name</th>\n",
       "      <th>games</th>\n",
       "      <th>sport</th>\n",
       "      <th>event</th>\n",
       "    </tr>\n",
       "  </thead>\n",
       "  <tbody>\n",
       "    <tr>\n",
       "      <th>0</th>\n",
       "      <td>3</td>\n",
       "      <td>Afghanistan</td>\n",
       "      <td>Rohullah NIKPAI</td>\n",
       "      <td>China</td>\n",
       "      <td>Taekwondo</td>\n",
       "      <td>- 58 kg</td>\n",
       "    </tr>\n",
       "    <tr>\n",
       "      <th>1</th>\n",
       "      <td>3</td>\n",
       "      <td>Afghanistan</td>\n",
       "      <td>Rohullah NIKPAI</td>\n",
       "      <td>Great Britain</td>\n",
       "      <td>Taekwondo</td>\n",
       "      <td>58 - 68 kg</td>\n",
       "    </tr>\n",
       "    <tr>\n",
       "      <th>2</th>\n",
       "      <td>3</td>\n",
       "      <td>Algeria</td>\n",
       "      <td>Mohamed ZAOUI</td>\n",
       "      <td>United States</td>\n",
       "      <td>Boxing</td>\n",
       "      <td>71 - 75kg (middleweight)</td>\n",
       "    </tr>\n",
       "    <tr>\n",
       "      <th>3</th>\n",
       "      <td>3</td>\n",
       "      <td>Algeria</td>\n",
       "      <td>Mustapha MOUSSA</td>\n",
       "      <td>United States</td>\n",
       "      <td>Boxing</td>\n",
       "      <td>75 - 81kg (light-heavyweight)</td>\n",
       "    </tr>\n",
       "    <tr>\n",
       "      <th>4</th>\n",
       "      <td>1</td>\n",
       "      <td>Algeria</td>\n",
       "      <td>Hassiba BOULMERKA</td>\n",
       "      <td>Spain</td>\n",
       "      <td>Athletics</td>\n",
       "      <td>1500m</td>\n",
       "    </tr>\n",
       "  </tbody>\n",
       "</table>\n",
       "</div>"
      ],
      "text/plain": [
       "   medal      country       athlete_name          games      sport  \\\n",
       "0      3  Afghanistan    Rohullah NIKPAI          China  Taekwondo   \n",
       "1      3  Afghanistan    Rohullah NIKPAI  Great Britain  Taekwondo   \n",
       "2      3      Algeria      Mohamed ZAOUI  United States     Boxing   \n",
       "3      3      Algeria    Mustapha MOUSSA  United States     Boxing   \n",
       "4      1      Algeria  Hassiba BOULMERKA          Spain  Athletics   \n",
       "\n",
       "                           event  \n",
       "0                        - 58 kg  \n",
       "1                     58 - 68 kg  \n",
       "2       71 - 75kg (middleweight)  \n",
       "3  75 - 81kg (light-heavyweight)  \n",
       "4                          1500m  "
      ]
     },
     "execution_count": 3,
     "metadata": {},
     "output_type": "execute_result"
    }
   ],
   "source": [
    "df_final.head(5)"
   ]
  },
  {
   "cell_type": "code",
   "execution_count": 4,
   "id": "900da3c7-5d0c-4da8-95e2-c0a5af191772",
   "metadata": {},
   "outputs": [
    {
     "name": "stdout",
     "output_type": "stream",
     "text": [
      "<class 'pandas.core.frame.DataFrame'>\n",
      "RangeIndex: 20281 entries, 0 to 20280\n",
      "Data columns (total 6 columns):\n",
      " #   Column        Non-Null Count  Dtype \n",
      "---  ------        --------------  ----- \n",
      " 0   medal         20281 non-null  int64 \n",
      " 1   country       20281 non-null  object\n",
      " 2   athlete_name  19858 non-null  object\n",
      " 3   games         20281 non-null  object\n",
      " 4   sport         20281 non-null  object\n",
      " 5   event         20281 non-null  object\n",
      "dtypes: int64(1), object(5)\n",
      "memory usage: 950.8+ KB\n"
     ]
    }
   ],
   "source": [
    "df_final.info()"
   ]
  },
  {
   "cell_type": "code",
   "execution_count": 5,
   "id": "3b4ef9fa-0de5-4095-9b68-f8bfd7014b81",
   "metadata": {},
   "outputs": [
    {
     "data": {
      "text/html": [
       "<div>\n",
       "<style scoped>\n",
       "    .dataframe tbody tr th:only-of-type {\n",
       "        vertical-align: middle;\n",
       "    }\n",
       "\n",
       "    .dataframe tbody tr th {\n",
       "        vertical-align: top;\n",
       "    }\n",
       "\n",
       "    .dataframe thead th {\n",
       "        text-align: right;\n",
       "    }\n",
       "</style>\n",
       "<table border=\"1\" class=\"dataframe\">\n",
       "  <thead>\n",
       "    <tr style=\"text-align: right;\">\n",
       "      <th></th>\n",
       "      <th>country</th>\n",
       "      <th>athlete_name</th>\n",
       "      <th>games</th>\n",
       "      <th>sport</th>\n",
       "      <th>event</th>\n",
       "    </tr>\n",
       "  </thead>\n",
       "  <tbody>\n",
       "    <tr>\n",
       "      <th>count</th>\n",
       "      <td>20281</td>\n",
       "      <td>19858</td>\n",
       "      <td>20281</td>\n",
       "      <td>20281</td>\n",
       "      <td>20281</td>\n",
       "    </tr>\n",
       "    <tr>\n",
       "      <th>unique</th>\n",
       "      <td>155</td>\n",
       "      <td>16337</td>\n",
       "      <td>25</td>\n",
       "      <td>79</td>\n",
       "      <td>709</td>\n",
       "    </tr>\n",
       "    <tr>\n",
       "      <th>top</th>\n",
       "      <td>United States</td>\n",
       "      <td>United States</td>\n",
       "      <td>United States</td>\n",
       "      <td>Athletics</td>\n",
       "      <td>individual</td>\n",
       "    </tr>\n",
       "    <tr>\n",
       "      <th>freq</th>\n",
       "      <td>2959</td>\n",
       "      <td>22</td>\n",
       "      <td>2628</td>\n",
       "      <td>3087</td>\n",
       "      <td>602</td>\n",
       "    </tr>\n",
       "  </tbody>\n",
       "</table>\n",
       "</div>"
      ],
      "text/plain": [
       "              country   athlete_name          games      sport       event\n",
       "count           20281          19858          20281      20281       20281\n",
       "unique            155          16337             25         79         709\n",
       "top     United States  United States  United States  Athletics  individual\n",
       "freq             2959             22           2628       3087         602"
      ]
     },
     "execution_count": 5,
     "metadata": {},
     "output_type": "execute_result"
    }
   ],
   "source": [
    "df_final.describe(include =\"object\")\n",
    "#Le include object signifie qu'on veut inclure que les Dtypes object"
   ]
  },
  {
   "cell_type": "markdown",
   "id": "36f0c577-4680-4041-8963-74d0789d0340",
   "metadata": {},
   "source": [
    "<div style=\"background-color:#01A652;padding:0px; color:white;\">\n",
    "    <h4 style=\"padding-left: 40px;\">Valeur Null</h3>\n",
    "</div>"
   ]
  },
  {
   "cell_type": "code",
   "execution_count": 6,
   "id": "9d44306c-f4c4-4d19-bdd6-17e716b3956b",
   "metadata": {},
   "outputs": [
    {
     "data": {
      "text/plain": [
       "medal             0\n",
       "country           0\n",
       "athlete_name    423\n",
       "games             0\n",
       "sport             0\n",
       "event             0\n",
       "dtype: int64"
      ]
     },
     "execution_count": 6,
     "metadata": {},
     "output_type": "execute_result"
    }
   ],
   "source": [
    "null_counts = df_final.isnull().sum()\n",
    "null_counts"
   ]
  },
  {
   "cell_type": "markdown",
   "id": "ca10cc8c-c55a-47aa-b347-7a55c6d814d5",
   "metadata": {},
   "source": [
    "<div style=\"background-color:#01A652;padding:0px; color:white;\">\n",
    "    <h4 style=\"padding-left: 40px;\">Remplacer les valeurs Null par du vide</h3>\n",
    "</div>"
   ]
  },
  {
   "cell_type": "code",
   "execution_count": 7,
   "id": "911fcef4-aad9-49cf-af7b-ebdd5e3f47cb",
   "metadata": {},
   "outputs": [
    {
     "data": {
      "text/html": [
       "<div>\n",
       "<style scoped>\n",
       "    .dataframe tbody tr th:only-of-type {\n",
       "        vertical-align: middle;\n",
       "    }\n",
       "\n",
       "    .dataframe tbody tr th {\n",
       "        vertical-align: top;\n",
       "    }\n",
       "\n",
       "    .dataframe thead th {\n",
       "        text-align: right;\n",
       "    }\n",
       "</style>\n",
       "<table border=\"1\" class=\"dataframe\">\n",
       "  <thead>\n",
       "    <tr style=\"text-align: right;\">\n",
       "      <th></th>\n",
       "      <th>medal</th>\n",
       "      <th>country</th>\n",
       "      <th>athlete_name</th>\n",
       "      <th>games</th>\n",
       "      <th>sport</th>\n",
       "      <th>event</th>\n",
       "    </tr>\n",
       "  </thead>\n",
       "  <tbody>\n",
       "    <tr>\n",
       "      <th>0</th>\n",
       "      <td>3</td>\n",
       "      <td>Afghanistan</td>\n",
       "      <td>Rohullah NIKPAI</td>\n",
       "      <td>China</td>\n",
       "      <td>Taekwondo</td>\n",
       "      <td>- 58 kg</td>\n",
       "    </tr>\n",
       "    <tr>\n",
       "      <th>1</th>\n",
       "      <td>3</td>\n",
       "      <td>Afghanistan</td>\n",
       "      <td>Rohullah NIKPAI</td>\n",
       "      <td>Great Britain</td>\n",
       "      <td>Taekwondo</td>\n",
       "      <td>58 - 68 kg</td>\n",
       "    </tr>\n",
       "    <tr>\n",
       "      <th>2</th>\n",
       "      <td>3</td>\n",
       "      <td>Algeria</td>\n",
       "      <td>Mohamed ZAOUI</td>\n",
       "      <td>United States</td>\n",
       "      <td>Boxing</td>\n",
       "      <td>71 - 75kg (middleweight)</td>\n",
       "    </tr>\n",
       "    <tr>\n",
       "      <th>3</th>\n",
       "      <td>3</td>\n",
       "      <td>Algeria</td>\n",
       "      <td>Mustapha MOUSSA</td>\n",
       "      <td>United States</td>\n",
       "      <td>Boxing</td>\n",
       "      <td>75 - 81kg (light-heavyweight)</td>\n",
       "    </tr>\n",
       "    <tr>\n",
       "      <th>4</th>\n",
       "      <td>1</td>\n",
       "      <td>Algeria</td>\n",
       "      <td>Hassiba BOULMERKA</td>\n",
       "      <td>Spain</td>\n",
       "      <td>Athletics</td>\n",
       "      <td>1500m</td>\n",
       "    </tr>\n",
       "  </tbody>\n",
       "</table>\n",
       "</div>"
      ],
      "text/plain": [
       "   medal      country       athlete_name          games      sport  \\\n",
       "0      3  Afghanistan    Rohullah NIKPAI          China  Taekwondo   \n",
       "1      3  Afghanistan    Rohullah NIKPAI  Great Britain  Taekwondo   \n",
       "2      3      Algeria      Mohamed ZAOUI  United States     Boxing   \n",
       "3      3      Algeria    Mustapha MOUSSA  United States     Boxing   \n",
       "4      1      Algeria  Hassiba BOULMERKA          Spain  Athletics   \n",
       "\n",
       "                           event  \n",
       "0                        - 58 kg  \n",
       "1                     58 - 68 kg  \n",
       "2       71 - 75kg (middleweight)  \n",
       "3  75 - 81kg (light-heavyweight)  \n",
       "4                          1500m  "
      ]
     },
     "execution_count": 7,
     "metadata": {},
     "output_type": "execute_result"
    }
   ],
   "source": [
    "df_final.fillna(\"\", inplace = True)\n",
    "df_final.head(5)"
   ]
  },
  {
   "cell_type": "markdown",
   "id": "d2c3d458-d07a-4075-a312-54420cb87b9b",
   "metadata": {},
   "source": [
    "<div style=\"background-color:#01A652;padding:0px; color:white;\">\n",
    "    <h4 style=\"padding-left: 40px;\">Valeurs sur athlete_name</h3>\n",
    "</div>"
   ]
  },
  {
   "cell_type": "markdown",
   "id": "2f9c4f0b-6384-4cdb-abb4-c6fffeaa34c1",
   "metadata": {},
   "source": [
    "Pour cela nous allons avoir besoin d'utiliser : **Python RegEx** ou **Expressions Régulières**\\\n",
    "\n",
    "Le terme **RegEx** désigne, en abrégé, les expressions régulières.\n",
    "\n",
    "Le module **re** de Python permet d'utiliser des expressions régulières et permet de rechercher des modèles spécifiques dans les chaînes de caractères.\\\n",
    "Les expressions régulières sont souvent utilisées pour vérifier que les données renseignées par les utilisateurs d’un programme respectent bien le format prescrit."
   ]
  },
  {
   "cell_type": "code",
   "execution_count": 8,
   "id": "7636b3bf-dbf2-4989-bb76-835af0083473",
   "metadata": {},
   "outputs": [],
   "source": [
    "import re"
   ]
  },
  {
   "cell_type": "code",
   "execution_count": 9,
   "id": "1f72af9e-7cfa-4481-89cf-c22bac90a6fd",
   "metadata": {},
   "outputs": [],
   "source": [
    "latin_regex = r'[A-Za-zÀ-ÿ]'\n",
    "\n",
    "df_latin = df_final[df_final[\"athlete_name\"].str.contains(latin_regex, regex=True)]\n",
    "df_nonlatin = df_final[~df_final[\"athlete_name\"].str.contains(latin_regex, regex=True)]"
   ]
  },
  {
   "attachments": {},
   "cell_type": "markdown",
   "id": "84181408-1cd3-4952-b131-0953b14c0d43",
   "metadata": {
    "jp-MarkdownHeadingCollapsed": true
   },
   "source": [
    "## <a name=\"C1\">**📖 Petit cours sur l'application du regex📖**</a>"
   ]
  },
  {
   "cell_type": "markdown",
   "id": "810aa592-b216-4f27-8564-f104c4741983",
   "metadata": {},
   "source": [
    "- Le **r** devant la chaîne de caractères de l'expression régulière signifie \"**raw string**\" en Python.\\\n",
    "En Python, une chaîne de caractères est une séquence de caractères entourée de guillemets.\n",
    "\n",
    "**Par exemple :**"
   ]
  },
  {
   "cell_type": "code",
   "execution_count": 10,
   "id": "13f0cfdb-cffb-4858-9b33-5aaf670e1c80",
   "metadata": {},
   "outputs": [],
   "source": [
    "chaine = \"Bonjour\""
   ]
  },
  {
   "cell_type": "markdown",
   "id": "f14872da-6b5b-4d29-ad66-735db77a9df2",
   "metadata": {},
   "source": [
    "**Caractères d'Échappement :**\\\n",
    "Les caractères d'échappement sont des séquences de caractères spéciales qui commencent par une barre oblique inverse (\\).\\\n",
    "Ils sont utilisés pour représenter des caractères qui autrement seraient difficiles à inclure dans une chaîne.\n",
    "\n",
    "**Quelques exemples :**\n",
    "- **\\n** représente un saut de ligne (nouvelle ligne).\n",
    "- **\\t** représente une tabulation.\n",
    "- **\\\\** représente une barre oblique inverse littérale.\n",
    "\n",
    "**Exemple d'utilisation :**"
   ]
  },
  {
   "cell_type": "code",
   "execution_count": 11,
   "id": "50a9f99d-d531-4033-9e67-ab3f0ea9df8d",
   "metadata": {},
   "outputs": [
    {
     "name": "stdout",
     "output_type": "stream",
     "text": [
      "Bonjour\n",
      "Comment ça va?\n"
     ]
    }
   ],
   "source": [
    "chaine = \"Bonjour\\nComment ça va?\"\n",
    "print(chaine)"
   ]
  },
  {
   "cell_type": "markdown",
   "id": "04427d5e-fa6a-4432-b83a-2ee9fd103576",
   "metadata": {},
   "source": [
    "**Problème des Caractères d'Échappement :**\\\n",
    "Supposons que vous vouliez écrire un chemin de fichier Windows dans une chaîne. Vous devez utiliser des barres obliques inverses (\\), mais elles sont aussi des caractères d'échappement. \n",
    "\n",
    "Vous devez donc les doubler :"
   ]
  },
  {
   "cell_type": "code",
   "execution_count": 12,
   "id": "1f3fc91d-fb0a-4af4-896f-55f226687d28",
   "metadata": {},
   "outputs": [],
   "source": [
    "chemin = \"C:\\\\Users\\\\nom\\\\fichier.txt\""
   ]
  },
  {
   "cell_type": "markdown",
   "id": "2ba677d2-cbe5-49f2-8ef3-8539d3ac2094",
   "metadata": {},
   "source": [
    "**Raw String (r)**\\\n",
    "Pour simplifier l'écriture des chaînes qui contiennent beaucoup de barres obliques inverses, Python permet d'utiliser des raw strings.\\\n",
    "Une raw string est précédée par un r (ou R) et traite toutes les barres obliques inverses littéralement, sans les interpréter comme des caractères d'échappement.\n",
    "\n",
    "**Exemple de raw string :**"
   ]
  },
  {
   "cell_type": "code",
   "execution_count": 13,
   "id": "1afca6c3-ce4f-4629-99fb-92e115b5c499",
   "metadata": {},
   "outputs": [],
   "source": [
    "chemin = r\"C:\\Users\\nom\\fichier.txt\""
   ]
  },
  {
   "cell_type": "markdown",
   "id": "f0b04990-a91e-49dd-b447-c6ed397dd86f",
   "metadata": {},
   "source": [
    "Avec **r**, vous n'avez plus besoin de doubler les barres obliques inverses. La chaîne est prise \"telle quelle\".\n",
    "\n",
    "**Raw Strings et Expressions Régulières**\\\n",
    "Les expressions régulières (regex) utilisent beaucoup de barres obliques inverses.\\\n",
    "Utiliser des raw strings pour les expressions régulières rend le code plus lisible et moins sujet aux erreurs."
   ]
  },
  {
   "cell_type": "markdown",
   "id": "0c9ddd76-4401-4146-a4a1-fe3e510832d0",
   "metadata": {},
   "source": [
    "- [A-Za-z] correspond à toutes les lettres majuscules et minuscules de l'alphabet latin sans accents (de A à Z et de a à z).\n",
    "- [À-ÿ] couvre les caractères latins étendus, incluant les lettres accentuées et autres caractères latins spécifiques (comme à, é, ü, etc.)."
   ]
  },
  {
   "cell_type": "markdown",
   "id": "3ace40c9-5265-432e-a80e-bdee8b961ac0",
   "metadata": {},
   "source": [
    "## <a name=\"C1\">**Les 2 dataframes**</a>"
   ]
  },
  {
   "cell_type": "markdown",
   "id": "c3ec8cc3-ab64-410b-88bb-77f08b9dd84a",
   "metadata": {},
   "source": [
    "### <a name=\"C1\">**• df latin**</a>"
   ]
  },
  {
   "cell_type": "code",
   "execution_count": 31,
   "id": "c630bce1-c848-4f15-affa-2e3a966418c3",
   "metadata": {},
   "outputs": [
    {
     "data": {
      "text/html": [
       "<div>\n",
       "<style scoped>\n",
       "    .dataframe tbody tr th:only-of-type {\n",
       "        vertical-align: middle;\n",
       "    }\n",
       "\n",
       "    .dataframe tbody tr th {\n",
       "        vertical-align: top;\n",
       "    }\n",
       "\n",
       "    .dataframe thead th {\n",
       "        text-align: right;\n",
       "    }\n",
       "</style>\n",
       "<table border=\"1\" class=\"dataframe\">\n",
       "  <thead>\n",
       "    <tr style=\"text-align: right;\">\n",
       "      <th></th>\n",
       "      <th>medal</th>\n",
       "      <th>country</th>\n",
       "      <th>athlete_name</th>\n",
       "      <th>games</th>\n",
       "      <th>sport</th>\n",
       "      <th>event</th>\n",
       "    </tr>\n",
       "  </thead>\n",
       "  <tbody>\n",
       "    <tr>\n",
       "      <th>9903</th>\n",
       "      <td>3</td>\n",
       "      <td>Korea Republic</td>\n",
       "      <td>Kang Seok LEE</td>\n",
       "      <td>Italy</td>\n",
       "      <td>Speed skating</td>\n",
       "      <td>2x500m</td>\n",
       "    </tr>\n",
       "    <tr>\n",
       "      <th>156</th>\n",
       "      <td>3</td>\n",
       "      <td>Australia</td>\n",
       "      <td>Joseph ARMSTRONG</td>\n",
       "      <td>Great Britain</td>\n",
       "      <td>Wrestling Freestyle</td>\n",
       "      <td>+ 87kg (heavyweight)</td>\n",
       "    </tr>\n",
       "    <tr>\n",
       "      <th>15737</th>\n",
       "      <td>1</td>\n",
       "      <td>United States</td>\n",
       "      <td>David JENKINS</td>\n",
       "      <td>United States</td>\n",
       "      <td>Figure skating</td>\n",
       "      <td>individual</td>\n",
       "    </tr>\n",
       "    <tr>\n",
       "      <th>14342</th>\n",
       "      <td>2</td>\n",
       "      <td>Turkey</td>\n",
       "      <td>Necmi GENCALP</td>\n",
       "      <td>Korea Republic</td>\n",
       "      <td>Wrestling Freestyle</td>\n",
       "      <td>74 - 82kg (middleweight)</td>\n",
       "    </tr>\n",
       "    <tr>\n",
       "      <th>19305</th>\n",
       "      <td>2</td>\n",
       "      <td>USSR</td>\n",
       "      <td>Larisa LATYNINA</td>\n",
       "      <td>Japan</td>\n",
       "      <td>Gymnastics Artistic</td>\n",
       "      <td>vault</td>\n",
       "    </tr>\n",
       "    <tr>\n",
       "      <th>12014</th>\n",
       "      <td>1</td>\n",
       "      <td>Romania</td>\n",
       "      <td>Stefan RUSU</td>\n",
       "      <td>USSR</td>\n",
       "      <td>Wrestling Greco-Roman</td>\n",
       "      <td>62 - 68kg (lightweight)</td>\n",
       "    </tr>\n",
       "    <tr>\n",
       "      <th>11673</th>\n",
       "      <td>2</td>\n",
       "      <td>Poland</td>\n",
       "      <td>Stanislaw SZOZDARyszard SZURKOWSKITadeusz MYTN...</td>\n",
       "      <td>Canada</td>\n",
       "      <td>Cycling Road</td>\n",
       "      <td>team time trial</td>\n",
       "    </tr>\n",
       "    <tr>\n",
       "      <th>15470</th>\n",
       "      <td>3</td>\n",
       "      <td>United States</td>\n",
       "      <td>Mal WHITFIELD</td>\n",
       "      <td>Great Britain</td>\n",
       "      <td>Athletics</td>\n",
       "      <td>400m</td>\n",
       "    </tr>\n",
       "    <tr>\n",
       "      <th>13053</th>\n",
       "      <td>2</td>\n",
       "      <td>Spain</td>\n",
       "      <td>Рафаэль Лоcано Муньос</td>\n",
       "      <td>Australia</td>\n",
       "      <td>Boxing</td>\n",
       "      <td>- 48kg (light-flyweight)</td>\n",
       "    </tr>\n",
       "    <tr>\n",
       "      <th>18317</th>\n",
       "      <td>2</td>\n",
       "      <td>German Democratic Republic</td>\n",
       "      <td>Jürgen WIEFEL</td>\n",
       "      <td>USSR</td>\n",
       "      <td>Shooting</td>\n",
       "      <td>25m rapid fire pistol</td>\n",
       "    </tr>\n",
       "  </tbody>\n",
       "</table>\n",
       "</div>"
      ],
      "text/plain": [
       "       medal                     country  \\\n",
       "9903       3              Korea Republic   \n",
       "156        3                   Australia   \n",
       "15737      1               United States   \n",
       "14342      2                      Turkey   \n",
       "19305      2                        USSR   \n",
       "12014      1                     Romania   \n",
       "11673      2                      Poland   \n",
       "15470      3               United States   \n",
       "13053      2                       Spain   \n",
       "18317      2  German Democratic Republic   \n",
       "\n",
       "                                            athlete_name           games  \\\n",
       "9903                                       Kang Seok LEE           Italy   \n",
       "156                                     Joseph ARMSTRONG   Great Britain   \n",
       "15737                                      David JENKINS   United States   \n",
       "14342                                      Necmi GENCALP  Korea Republic   \n",
       "19305                                    Larisa LATYNINA           Japan   \n",
       "12014                                        Stefan RUSU            USSR   \n",
       "11673  Stanislaw SZOZDARyszard SZURKOWSKITadeusz MYTN...          Canada   \n",
       "15470                                      Mal WHITFIELD   Great Britain   \n",
       "13053                              Рафаэль Лоcано Муньос       Australia   \n",
       "18317                                      Jürgen WIEFEL            USSR   \n",
       "\n",
       "                       sport                     event  \n",
       "9903           Speed skating                    2x500m  \n",
       "156      Wrestling Freestyle      + 87kg (heavyweight)  \n",
       "15737         Figure skating                individual  \n",
       "14342    Wrestling Freestyle  74 - 82kg (middleweight)  \n",
       "19305    Gymnastics Artistic                     vault  \n",
       "12014  Wrestling Greco-Roman   62 - 68kg (lightweight)  \n",
       "11673           Cycling Road           team time trial  \n",
       "15470              Athletics                      400m  \n",
       "13053                 Boxing  - 48kg (light-flyweight)  \n",
       "18317               Shooting     25m rapid fire pistol  "
      ]
     },
     "execution_count": 31,
     "metadata": {},
     "output_type": "execute_result"
    }
   ],
   "source": [
    "df_latin.sample(10)"
   ]
  },
  {
   "cell_type": "markdown",
   "id": "2b4a4aab-0a46-4574-9151-cb58e7b8a40e",
   "metadata": {},
   "source": [
    "### <a name=\"C1\">**• df non latin**</a>"
   ]
  },
  {
   "cell_type": "code",
   "execution_count": 29,
   "id": "d8b24020-6376-46e8-8a5b-9ea2fbe16389",
   "metadata": {},
   "outputs": [
    {
     "data": {
      "text/html": [
       "<div>\n",
       "<style scoped>\n",
       "    .dataframe tbody tr th:only-of-type {\n",
       "        vertical-align: middle;\n",
       "    }\n",
       "\n",
       "    .dataframe tbody tr th {\n",
       "        vertical-align: top;\n",
       "    }\n",
       "\n",
       "    .dataframe thead th {\n",
       "        text-align: right;\n",
       "    }\n",
       "</style>\n",
       "<table border=\"1\" class=\"dataframe\">\n",
       "  <thead>\n",
       "    <tr style=\"text-align: right;\">\n",
       "      <th></th>\n",
       "      <th>medal</th>\n",
       "      <th>country</th>\n",
       "      <th>athlete_name</th>\n",
       "      <th>games</th>\n",
       "      <th>sport</th>\n",
       "      <th>event</th>\n",
       "    </tr>\n",
       "  </thead>\n",
       "  <tbody>\n",
       "    <tr>\n",
       "      <th>4979</th>\n",
       "      <td>1</td>\n",
       "      <td>France</td>\n",
       "      <td>Видаль</td>\n",
       "      <td>United States</td>\n",
       "      <td>Alpine Skiing</td>\n",
       "      <td>slalom</td>\n",
       "    </tr>\n",
       "    <tr>\n",
       "      <th>8505</th>\n",
       "      <td>3</td>\n",
       "      <td>Italy</td>\n",
       "      <td>ТарантиноКазертаТеренци</td>\n",
       "      <td>United States</td>\n",
       "      <td>Fencing</td>\n",
       "      <td>sabre team</td>\n",
       "    </tr>\n",
       "    <tr>\n",
       "      <th>10579</th>\n",
       "      <td>1</td>\n",
       "      <td>Netherlands</td>\n",
       "      <td>Питер Ван Ден Хугенбанд</td>\n",
       "      <td>Greece</td>\n",
       "      <td>Swimming</td>\n",
       "      <td>100m freestyle</td>\n",
       "    </tr>\n",
       "    <tr>\n",
       "      <th>6838</th>\n",
       "      <td>1</td>\n",
       "      <td>Great Britain</td>\n",
       "      <td>Дениз Льюис</td>\n",
       "      <td>Australia</td>\n",
       "      <td>Athletics</td>\n",
       "      <td>heptathlon</td>\n",
       "    </tr>\n",
       "    <tr>\n",
       "      <th>12399</th>\n",
       "      <td>3</td>\n",
       "      <td>Russian Federation</td>\n",
       "      <td>Елена Продунова</td>\n",
       "      <td>Australia</td>\n",
       "      <td>Gymnastics Artistic</td>\n",
       "      <td>balance beam</td>\n",
       "    </tr>\n",
       "    <tr>\n",
       "      <th>2047</th>\n",
       "      <td>2</td>\n",
       "      <td>Canada</td>\n",
       "      <td>Уотерспун</td>\n",
       "      <td>Japan</td>\n",
       "      <td>Speed skating</td>\n",
       "      <td>500m</td>\n",
       "    </tr>\n",
       "    <tr>\n",
       "      <th>2444</th>\n",
       "      <td>1</td>\n",
       "      <td>China</td>\n",
       "      <td>Же ФейЖу Чжунь</td>\n",
       "      <td>United States</td>\n",
       "      <td>Badminton</td>\n",
       "      <td>doubles</td>\n",
       "    </tr>\n",
       "    <tr>\n",
       "      <th>16824</th>\n",
       "      <td>3</td>\n",
       "      <td>United States</td>\n",
       "      <td>Смит</td>\n",
       "      <td>United States</td>\n",
       "      <td>Short Track Speed Skating</td>\n",
       "      <td>500m</td>\n",
       "    </tr>\n",
       "    <tr>\n",
       "      <th>9844</th>\n",
       "      <td>2</td>\n",
       "      <td>Korea Republic</td>\n",
       "      <td>Чо Ин Чул</td>\n",
       "      <td>Australia</td>\n",
       "      <td>Judo</td>\n",
       "      <td>73 - 81kg (half-middleweight)</td>\n",
       "    </tr>\n",
       "    <tr>\n",
       "      <th>9866</th>\n",
       "      <td>1</td>\n",
       "      <td>Korea Republic</td>\n",
       "      <td>Ким Дон МунХа Тае Квон</td>\n",
       "      <td>Greece</td>\n",
       "      <td>Badminton</td>\n",
       "      <td>doubles</td>\n",
       "    </tr>\n",
       "  </tbody>\n",
       "</table>\n",
       "</div>"
      ],
      "text/plain": [
       "       medal             country             athlete_name          games  \\\n",
       "4979       1              France                   Видаль  United States   \n",
       "8505       3               Italy  ТарантиноКазертаТеренци  United States   \n",
       "10579      1         Netherlands  Питер Ван Ден Хугенбанд         Greece   \n",
       "6838       1       Great Britain              Дениз Льюис      Australia   \n",
       "12399      3  Russian Federation          Елена Продунова      Australia   \n",
       "2047       2              Canada                Уотерспун          Japan   \n",
       "2444       1               China           Же ФейЖу Чжунь  United States   \n",
       "16824      3       United States                     Смит  United States   \n",
       "9844       2      Korea Republic                Чо Ин Чул      Australia   \n",
       "9866       1      Korea Republic   Ким Дон МунХа Тае Квон         Greece   \n",
       "\n",
       "                           sport                          event  \n",
       "4979               Alpine Skiing                         slalom  \n",
       "8505                     Fencing                     sabre team  \n",
       "10579                   Swimming                 100m freestyle  \n",
       "6838                   Athletics                     heptathlon  \n",
       "12399        Gymnastics Artistic                   balance beam  \n",
       "2047               Speed skating                           500m  \n",
       "2444                   Badminton                        doubles  \n",
       "16824  Short Track Speed Skating                           500m  \n",
       "9844                        Judo  73 - 81kg (half-middleweight)  \n",
       "9866                   Badminton                        doubles  "
      ]
     },
     "execution_count": 29,
     "metadata": {},
     "output_type": "execute_result"
    }
   ],
   "source": [
    "df_nonlatin.sample(10)"
   ]
  },
  {
   "cell_type": "markdown",
   "id": "7523bbd0-1455-433b-a675-74fde40db03c",
   "metadata": {},
   "source": [
    "Le but ici etait de voir si il y avait des chaines de caractere differents .\n",
    "Cette approche permet de séparer les données en deux groupes : \n",
    "- Ceux avec des noms contenant des caractères latins\n",
    "- Ceux sans caractères latins.\n",
    "\n",
    "Cela nous aide pour la suite de notre annalyse car maintenant qu'allons traduire le dataframe df_nonlatin pour le mettre sous format latin"
   ]
  },
  {
   "cell_type": "code",
   "execution_count": null,
   "id": "65cf0f42-7300-455a-a771-44218fe9015a",
   "metadata": {},
   "outputs": [],
   "source": []
  },
  {
   "cell_type": "markdown",
   "id": "461a63df-8559-48d0-bf63-4b0537fed8ba",
   "metadata": {},
   "source": [
    "<div style=\"background-color:#0082C7;padding:0px; color:white;\">\n",
    "    <h2 style=\"padding-left: 40px;\">NETTOYAGE DES DONNEES</h2>\n",
    "</div>"
   ]
  },
  {
   "cell_type": "code",
   "execution_count": 16,
   "id": "c6b894c1-c90a-4b9e-9fa7-812e66441f31",
   "metadata": {},
   "outputs": [],
   "source": [
    "# Check chars non-ASCII\n",
    "def contains_non_ascii (strings):\n",
    "    \n",
    "    resultat = any(ord(char) > 127 for char in strings) #ord c'est le retoune le unicode pour un caratere\n",
    "    return resultat\n",
    "    \n",
    "# Filtrer non-ASCII & ASCII name\n",
    "df_non_ascii = df_final[df_final['athlete_name'].apply(contains_non_ascii)]\n",
    "df_ascii = df_final[~df_final['athlete_name'].apply(contains_non_ascii)]\n",
    "\n",
    "\n",
    "\n",
    "#df_non_ascii = df_final[df_final['athlete_name'].apply(contains_non_ascii)] = df_non_ascii = df_final.iloc[df_final['athlete_name'].apply(contains_non_ascii)]\n",
    "# une fonction a toujours des parantheses\n",
    "# Pour faire appelle a une colonne c'est entre crochet \n",
    "# le signe ~ signifie tilde c'est l'inverse de quelque chose quelque chose qui est a 1 passera à 0"
   ]
  },
  {
   "cell_type": "code",
   "execution_count": 17,
   "id": "4b99aa10-5a42-4074-bb87-af2a880bfc58",
   "metadata": {},
   "outputs": [
    {
     "data": {
      "text/html": [
       "<div>\n",
       "<style scoped>\n",
       "    .dataframe tbody tr th:only-of-type {\n",
       "        vertical-align: middle;\n",
       "    }\n",
       "\n",
       "    .dataframe tbody tr th {\n",
       "        vertical-align: top;\n",
       "    }\n",
       "\n",
       "    .dataframe thead th {\n",
       "        text-align: right;\n",
       "    }\n",
       "</style>\n",
       "<table border=\"1\" class=\"dataframe\">\n",
       "  <thead>\n",
       "    <tr style=\"text-align: right;\">\n",
       "      <th></th>\n",
       "      <th>athlete_name</th>\n",
       "    </tr>\n",
       "  </thead>\n",
       "  <tbody>\n",
       "    <tr>\n",
       "      <th>0</th>\n",
       "      <td>Rohullah NIKPAI</td>\n",
       "    </tr>\n",
       "    <tr>\n",
       "      <th>1</th>\n",
       "      <td>Rohullah NIKPAI</td>\n",
       "    </tr>\n",
       "    <tr>\n",
       "      <th>2</th>\n",
       "      <td>Mohamed ZAOUI</td>\n",
       "    </tr>\n",
       "    <tr>\n",
       "      <th>3</th>\n",
       "      <td>Mustapha MOUSSA</td>\n",
       "    </tr>\n",
       "    <tr>\n",
       "      <th>4</th>\n",
       "      <td>Hassiba BOULMERKA</td>\n",
       "    </tr>\n",
       "  </tbody>\n",
       "</table>\n",
       "</div>"
      ],
      "text/plain": [
       "        athlete_name\n",
       "0    Rohullah NIKPAI\n",
       "1    Rohullah NIKPAI\n",
       "2      Mohamed ZAOUI\n",
       "3    Mustapha MOUSSA\n",
       "4  Hassiba BOULMERKA"
      ]
     },
     "execution_count": 17,
     "metadata": {},
     "output_type": "execute_result"
    }
   ],
   "source": [
    "df_athlete_name = df_final[\"athlete_name\"]\n",
    "df_athlete_name = pd.DataFrame(df_athlete_name)\n",
    "df_athlete_name.head(5)"
   ]
  },
  {
   "cell_type": "markdown",
   "id": "f3b92aeb-1f67-480b-9e4e-2659551fef57",
   "metadata": {},
   "source": [
    "<div style=\"background-color:#0082C7;padding:0px; color:white;\">\n",
    "    <h2 style=\"padding-left: 40px;\">ANCIENNE METHODE POUR CIBLER LES ATHLETES</h2>\n",
    "</div>"
   ]
  },
  {
   "cell_type": "markdown",
   "id": "59ae813e-9b66-499d-ad34-c2479fe262f7",
   "metadata": {},
   "source": [
    "<div style=\"background-color:#FCB030;padding:0px; color:white;\">\n",
    "    <h3 style=\"padding-left: 40px;\">Creer 2 tables : une table \"ASCII\" et une table \"non ASCII\"</h3>\n",
    "</div>"
   ]
  },
  {
   "cell_type": "markdown",
   "id": "b563a40c-f962-4ca0-8e73-83b1b7387e3d",
   "metadata": {},
   "source": [
    "**ASCII :** il s'agit d'un encodage de caractères, l'American Standard Code for Information Interchange, précurseur américain de l'ISO 646 (qui définit des ensembles de caractères à l'international)."
   ]
  },
  {
   "cell_type": "markdown",
   "id": "088d86fb-4df7-4521-91ef-04ed903518d3",
   "metadata": {},
   "source": [
    "<div style=\"text-align:center;\">\n",
    "    <div class=\"birk\">\n",
    "        <img src=\"ascii.png\">\n",
    "    </div>\n",
    "</div>"
   ]
  },
  {
   "cell_type": "code",
   "execution_count": 18,
   "id": "25778c96-e6aa-4500-bacc-9f4037de9512",
   "metadata": {},
   "outputs": [],
   "source": [
    "# Check chars non-ASCII\n",
    "def contains_non_ascii (strings):\n",
    "    \n",
    "    resultat = any(ord(char) > 127 for char in strings) #ord c'est le retoune le unicode pour un caratere\n",
    "    return resultat\n",
    "    \n",
    "# Filtrer non-ASCII & ASCII name\n",
    "df_non_ascii = df_final[df_final['athlete_name'].apply(contains_non_ascii)]\n",
    "df_ascii = df_final[~df_final['athlete_name'].apply(contains_non_ascii)]\n",
    "\n",
    "\n",
    "\n",
    "#df_non_ascii = df_final[df_final['athlete_name'].apply(contains_non_ascii)] = df_non_ascii = df_final.iloc[df_final['athlete_name'].apply(contains_non_ascii)]\n",
    "# une fonction a toujours des parantheses\n",
    "# Pour faire appelle a une colonne c'est entre crochet \n",
    "# le signe ~ signifie tilde c'est l'inverse de quelque chose quelque chose qui est a 1 passera à 0"
   ]
  },
  {
   "cell_type": "markdown",
   "id": "b7a51250-060a-439c-9878-ef6ebc3e4585",
   "metadata": {},
   "source": [
    "<div style=\"background-color:#01A652;padding:0px; color:white;\">\n",
    "    <h4 style=\"padding-left: 40px;\">Table ASCII</h3>\n",
    "</div>"
   ]
  },
  {
   "cell_type": "code",
   "execution_count": 19,
   "id": "170d811f-ff4f-4af4-9225-2de7d64ee52e",
   "metadata": {},
   "outputs": [
    {
     "data": {
      "text/html": [
       "<div>\n",
       "<style scoped>\n",
       "    .dataframe tbody tr th:only-of-type {\n",
       "        vertical-align: middle;\n",
       "    }\n",
       "\n",
       "    .dataframe tbody tr th {\n",
       "        vertical-align: top;\n",
       "    }\n",
       "\n",
       "    .dataframe thead th {\n",
       "        text-align: right;\n",
       "    }\n",
       "</style>\n",
       "<table border=\"1\" class=\"dataframe\">\n",
       "  <thead>\n",
       "    <tr style=\"text-align: right;\">\n",
       "      <th></th>\n",
       "      <th>medal</th>\n",
       "      <th>country</th>\n",
       "      <th>athlete_name</th>\n",
       "      <th>games</th>\n",
       "      <th>sport</th>\n",
       "      <th>event</th>\n",
       "    </tr>\n",
       "  </thead>\n",
       "  <tbody>\n",
       "    <tr>\n",
       "      <th>0</th>\n",
       "      <td>3</td>\n",
       "      <td>Afghanistan</td>\n",
       "      <td>Rohullah NIKPAI</td>\n",
       "      <td>China</td>\n",
       "      <td>Taekwondo</td>\n",
       "      <td>- 58 kg</td>\n",
       "    </tr>\n",
       "    <tr>\n",
       "      <th>1</th>\n",
       "      <td>3</td>\n",
       "      <td>Afghanistan</td>\n",
       "      <td>Rohullah NIKPAI</td>\n",
       "      <td>Great Britain</td>\n",
       "      <td>Taekwondo</td>\n",
       "      <td>58 - 68 kg</td>\n",
       "    </tr>\n",
       "    <tr>\n",
       "      <th>2</th>\n",
       "      <td>3</td>\n",
       "      <td>Algeria</td>\n",
       "      <td>Mohamed ZAOUI</td>\n",
       "      <td>United States</td>\n",
       "      <td>Boxing</td>\n",
       "      <td>71 - 75kg (middleweight)</td>\n",
       "    </tr>\n",
       "    <tr>\n",
       "      <th>3</th>\n",
       "      <td>3</td>\n",
       "      <td>Algeria</td>\n",
       "      <td>Mustapha MOUSSA</td>\n",
       "      <td>United States</td>\n",
       "      <td>Boxing</td>\n",
       "      <td>75 - 81kg (light-heavyweight)</td>\n",
       "    </tr>\n",
       "    <tr>\n",
       "      <th>4</th>\n",
       "      <td>1</td>\n",
       "      <td>Algeria</td>\n",
       "      <td>Hassiba BOULMERKA</td>\n",
       "      <td>Spain</td>\n",
       "      <td>Athletics</td>\n",
       "      <td>1500m</td>\n",
       "    </tr>\n",
       "  </tbody>\n",
       "</table>\n",
       "</div>"
      ],
      "text/plain": [
       "   medal      country       athlete_name          games      sport  \\\n",
       "0      3  Afghanistan    Rohullah NIKPAI          China  Taekwondo   \n",
       "1      3  Afghanistan    Rohullah NIKPAI  Great Britain  Taekwondo   \n",
       "2      3      Algeria      Mohamed ZAOUI  United States     Boxing   \n",
       "3      3      Algeria    Mustapha MOUSSA  United States     Boxing   \n",
       "4      1      Algeria  Hassiba BOULMERKA          Spain  Athletics   \n",
       "\n",
       "                           event  \n",
       "0                        - 58 kg  \n",
       "1                     58 - 68 kg  \n",
       "2       71 - 75kg (middleweight)  \n",
       "3  75 - 81kg (light-heavyweight)  \n",
       "4                          1500m  "
      ]
     },
     "execution_count": 19,
     "metadata": {},
     "output_type": "execute_result"
    }
   ],
   "source": [
    "df_ascii.head(5)"
   ]
  },
  {
   "cell_type": "markdown",
   "id": "729554d8-a650-4b06-b8e5-ad4ab822e448",
   "metadata": {},
   "source": [
    "<div style=\"background-color:#01A652;padding:0px; color:white;\">\n",
    "    <h4 style=\"padding-left: 40px;\">Table non ASCII</h3>\n",
    "</div>"
   ]
  },
  {
   "cell_type": "code",
   "execution_count": 20,
   "id": "17194093-ffc1-459f-bad5-7831cbaf1151",
   "metadata": {},
   "outputs": [
    {
     "data": {
      "text/html": [
       "<div>\n",
       "<style scoped>\n",
       "    .dataframe tbody tr th:only-of-type {\n",
       "        vertical-align: middle;\n",
       "    }\n",
       "\n",
       "    .dataframe tbody tr th {\n",
       "        vertical-align: top;\n",
       "    }\n",
       "\n",
       "    .dataframe thead th {\n",
       "        text-align: right;\n",
       "    }\n",
       "</style>\n",
       "<table border=\"1\" class=\"dataframe\">\n",
       "  <thead>\n",
       "    <tr style=\"text-align: right;\">\n",
       "      <th></th>\n",
       "      <th>medal</th>\n",
       "      <th>country</th>\n",
       "      <th>athlete_name</th>\n",
       "      <th>games</th>\n",
       "      <th>sport</th>\n",
       "      <th>event</th>\n",
       "    </tr>\n",
       "  </thead>\n",
       "  <tbody>\n",
       "    <tr>\n",
       "      <th>6</th>\n",
       "      <td>1</td>\n",
       "      <td>Algeria</td>\n",
       "      <td>Морсели</td>\n",
       "      <td>United States</td>\n",
       "      <td>Athletics</td>\n",
       "      <td>1500m</td>\n",
       "    </tr>\n",
       "    <tr>\n",
       "      <th>7</th>\n",
       "      <td>1</td>\n",
       "      <td>Algeria</td>\n",
       "      <td>Солтани</td>\n",
       "      <td>United States</td>\n",
       "      <td>Boxing</td>\n",
       "      <td>57 - 60kg (lightweight)</td>\n",
       "    </tr>\n",
       "    <tr>\n",
       "      <th>8</th>\n",
       "      <td>3</td>\n",
       "      <td>Algeria</td>\n",
       "      <td>Бахари</td>\n",
       "      <td>United States</td>\n",
       "      <td>Boxing</td>\n",
       "      <td>71 - 75kg (middleweight)</td>\n",
       "    </tr>\n",
       "    <tr>\n",
       "      <th>9</th>\n",
       "      <td>1</td>\n",
       "      <td>Algeria</td>\n",
       "      <td>Нурия Мерах-Бенида</td>\n",
       "      <td>Australia</td>\n",
       "      <td>Athletics</td>\n",
       "      <td>1500m</td>\n",
       "    </tr>\n",
       "    <tr>\n",
       "      <th>10</th>\n",
       "      <td>2</td>\n",
       "      <td>Algeria</td>\n",
       "      <td>Али Саид-Сиф</td>\n",
       "      <td>Australia</td>\n",
       "      <td>Athletics</td>\n",
       "      <td>5000m</td>\n",
       "    </tr>\n",
       "  </tbody>\n",
       "</table>\n",
       "</div>"
      ],
      "text/plain": [
       "    medal  country        athlete_name          games      sport  \\\n",
       "6       1  Algeria             Морсели  United States  Athletics   \n",
       "7       1  Algeria             Солтани  United States     Boxing   \n",
       "8       3  Algeria              Бахари  United States     Boxing   \n",
       "9       1  Algeria  Нурия Мерах-Бенида      Australia  Athletics   \n",
       "10      2  Algeria        Али Саид-Сиф      Australia  Athletics   \n",
       "\n",
       "                       event  \n",
       "6                      1500m  \n",
       "7    57 - 60kg (lightweight)  \n",
       "8   71 - 75kg (middleweight)  \n",
       "9                      1500m  \n",
       "10                     5000m  "
      ]
     },
     "execution_count": 20,
     "metadata": {},
     "output_type": "execute_result"
    }
   ],
   "source": [
    "df_non_ascii.head(5)"
   ]
  },
  {
   "cell_type": "code",
   "execution_count": 21,
   "id": "28d5d8be-88df-412a-91c3-abc11fed8c47",
   "metadata": {},
   "outputs": [
    {
     "name": "stdout",
     "output_type": "stream",
     "text": [
      "Erreur : Can't detect language for the text \"Oscar VARONARuperto HERRERA TABIOFranklin STANDARDTomas HERRERA MARTINEZPedro CHAPPE GARCIARafael CANIZARES POEYJuan DOMECQConrado PEREZ ARMENTEROSMiguel CALDERON GOMEZJuan ROCAAlejandro URGELLÉSJose Miguel ALVAREZ POZO\" given.\n"
     ]
    }
   ],
   "source": [
    "from transliterate import translit\n",
    "\n",
    "try:\n",
    "    df_non_ascii.athlete_name = df_non_ascii.athlete_name.apply(lambda s: translit(s, reversed=True))\n",
    "except Exception as e:\n",
    "    print(f\"Erreur : {e}\")\n",
    "\n",
    "# Ce bloc permet de capturer toute exception qui pourrait se produire lors de l'exécution de la fonction translit.\n",
    "# Si une erreur se produit, elle est affichée et l'exécution continue sans interruption."
   ]
  },
  {
   "cell_type": "markdown",
   "id": "3a1c1bf7-8eef-4be8-b6e7-cc49bc790c4d",
   "metadata": {},
   "source": [
    "\\\n",
    "**Ici on a une erreur qu'on a gardé car elle nous permet de comprendre loù il y a une erreur et de cibler cette erreur** "
   ]
  },
  {
   "cell_type": "code",
   "execution_count": 22,
   "id": "ef027a00-f1a1-4f34-9464-52c37f05a4cc",
   "metadata": {},
   "outputs": [
    {
     "name": "stdout",
     "output_type": "stream",
     "text": [
      "É\n"
     ]
    }
   ],
   "source": [
    "strings = df_non_ascii[df_non_ascii[\"athlete_name\"]==\"Oscar VARONARuperto HERRERA TABIOFranklin STANDARDTomas HERRERA MARTINEZPedro CHAPPE GARCIARafael CANIZARES POEYJuan DOMECQConrado PEREZ ARMENTEROSMiguel CALDERON GOMEZJuan ROCAAlejandro URGELLÉSJose Miguel ALVAREZ POZO\"][\"athlete_name\"].item()\n",
    "\n",
    "#list_decimal = []\n",
    "\n",
    "for i,char in enumerate(strings):\n",
    "    if ord(char) > 127 :\n",
    "        print(strings[i])\n",
    "    #list_decimal.append(ord(char))"
   ]
  },
  {
   "cell_type": "markdown",
   "id": "3fa89c34-97e7-4cd2-a110-23cc588a2703",
   "metadata": {},
   "source": [
    "<div style=\"background-color:#01A652;padding:0px; color:white;\">\n",
    "    <h4 style=\"padding-left: 40px;\">Creer un dataframe avec tous les athletes qui rencontre une erreur </h3>\n",
    "</div>"
   ]
  },
  {
   "cell_type": "code",
   "execution_count": 23,
   "id": "75b2c157-a821-43f7-a010-2bd9e832926c",
   "metadata": {},
   "outputs": [
    {
     "name": "stderr",
     "output_type": "stream",
     "text": [
      "C:\\Users\\antoi\\AppData\\Local\\Temp\\ipykernel_11848\\2425192484.py:12: SettingWithCopyWarning: \n",
      "A value is trying to be set on a copy of a slice from a DataFrame.\n",
      "Try using .loc[row_indexer,col_indexer] = value instead\n",
      "\n",
      "See the caveats in the documentation: https://pandas.pydata.org/pandas-docs/stable/user_guide/indexing.html#returning-a-view-versus-a-copy\n",
      "  df_non_ascii['athlete_name'] = df_non_ascii['athlete_name'].apply(safe_translit)\n"
     ]
    }
   ],
   "source": [
    "from transliterate import translit\n",
    "errors = []\n",
    "\n",
    "def safe_translit(s):\n",
    "    try:\n",
    "        return translit(s, reversed=True)\n",
    "    except Exception as e:\n",
    "        errors.append({'athlete_name': s, 'error': str(e)})\n",
    "        return s  # Return the original string if there's an error\n",
    "\n",
    "# Apply the safe_translit function to the athlete_name column\n",
    "df_non_ascii['athlete_name'] = df_non_ascii['athlete_name'].apply(safe_translit)\n"
   ]
  },
  {
   "cell_type": "markdown",
   "id": "7262da96-6351-4b0b-9fa6-065a8c64de73",
   "metadata": {},
   "source": [
    "**Le code a pour objectif de :**\n",
    "\n",
    "- Translittérer les noms des athlètes en utilisant une approche sécurisée qui ne casse pas le flux d'exécution en cas d'erreur.\n",
    "- Capturer et enregistrer les erreurs rencontrées pendant la translittération pour permettre une inspection et une correction ultérieure.re."
   ]
  },
  {
   "cell_type": "code",
   "execution_count": 24,
   "id": "6d116360-31bd-4619-82ea-113cfd23b627",
   "metadata": {},
   "outputs": [
    {
     "data": {
      "text/html": [
       "<div>\n",
       "<style scoped>\n",
       "    .dataframe tbody tr th:only-of-type {\n",
       "        vertical-align: middle;\n",
       "    }\n",
       "\n",
       "    .dataframe tbody tr th {\n",
       "        vertical-align: top;\n",
       "    }\n",
       "\n",
       "    .dataframe thead th {\n",
       "        text-align: right;\n",
       "    }\n",
       "</style>\n",
       "<table border=\"1\" class=\"dataframe\">\n",
       "  <thead>\n",
       "    <tr style=\"text-align: right;\">\n",
       "      <th></th>\n",
       "      <th>athlete_name</th>\n",
       "      <th>error</th>\n",
       "    </tr>\n",
       "  </thead>\n",
       "  <tbody>\n",
       "    <tr>\n",
       "      <th>0</th>\n",
       "      <td>Oscar VARONARuperto HERRERA TABIOFranklin STAN...</td>\n",
       "      <td>Can't detect language for the text \"Oscar VARO...</td>\n",
       "    </tr>\n",
       "    <tr>\n",
       "      <th>1</th>\n",
       "      <td>Marek Švec</td>\n",
       "      <td>Can't detect language for the text \"Marek Švec...</td>\n",
       "    </tr>\n",
       "    <tr>\n",
       "      <th>2</th>\n",
       "      <td>Timo JUTILAJanne OJANENJanne LAUKKANENRaimo HE...</td>\n",
       "      <td>Can't detect language for the text \"Timo JUTIL...</td>\n",
       "    </tr>\n",
       "    <tr>\n",
       "      <th>3</th>\n",
       "      <td>Karel HEIJTINGJohan Eduard SOLEmil Gustav MUND...</td>\n",
       "      <td>Can't detect language for the text \"Karel HEIJ...</td>\n",
       "    </tr>\n",
       "    <tr>\n",
       "      <th>4</th>\n",
       "      <td>Gheorghiță Ștefan</td>\n",
       "      <td>Can't detect language for the text \"Gheorghiță...</td>\n",
       "    </tr>\n",
       "    <tr>\n",
       "      <th>5</th>\n",
       "      <td>Stefan LIVDaniel SEDINMikael SAMUELSSONHenrik ...</td>\n",
       "      <td>Can't detect language for the text \"Stefan LIV...</td>\n",
       "    </tr>\n",
       "    <tr>\n",
       "      <th>6</th>\n",
       "      <td>Jeffrey HYMANSONFranklynn SANDERSTimothy SHEEH...</td>\n",
       "      <td>Can't detect language for the text \"Jeffrey HY...</td>\n",
       "    </tr>\n",
       "    <tr>\n",
       "      <th>7</th>\n",
       "      <td>ENGLISH Amber Shooting United States of America</td>\n",
       "      <td>Can't detect language for the text \"ENGLISH Am...</td>\n",
       "    </tr>\n",
       "    <tr>\n",
       "      <th>8</th>\n",
       "      <td>Karl-Joachim HURTERAndreas KELLERMarkku SLAWYK...</td>\n",
       "      <td>Can't detect language for the text \"Karl-Joach...</td>\n",
       "    </tr>\n",
       "    <tr>\n",
       "      <th>9</th>\n",
       "      <td>Aleksandr VolkovSergei TarakanovIgors Miglinie...</td>\n",
       "      <td>Can't detect language for the text \"Aleksandr ...</td>\n",
       "    </tr>\n",
       "    <tr>\n",
       "      <th>10</th>\n",
       "      <td>Thomas COE (GBR)William Henry (GBR)Frederick S...</td>\n",
       "      <td>Can't detect language for the text \"Thomas COE...</td>\n",
       "    </tr>\n",
       "    <tr>\n",
       "      <th>11</th>\n",
       "      <td>Ernest MOREAU De Melen (BEL)Hilaire Frederik S...</td>\n",
       "      <td>Can't detect language for the text \"Ernest MOR...</td>\n",
       "    </tr>\n",
       "  </tbody>\n",
       "</table>\n",
       "</div>"
      ],
      "text/plain": [
       "                                         athlete_name  \\\n",
       "0   Oscar VARONARuperto HERRERA TABIOFranklin STAN...   \n",
       "1                                          Marek Švec   \n",
       "2   Timo JUTILAJanne OJANENJanne LAUKKANENRaimo HE...   \n",
       "3   Karel HEIJTINGJohan Eduard SOLEmil Gustav MUND...   \n",
       "4                                   Gheorghiță Ștefan   \n",
       "5   Stefan LIVDaniel SEDINMikael SAMUELSSONHenrik ...   \n",
       "6   Jeffrey HYMANSONFranklynn SANDERSTimothy SHEEH...   \n",
       "7     ENGLISH Amber Shooting United States of America   \n",
       "8   Karl-Joachim HURTERAndreas KELLERMarkku SLAWYK...   \n",
       "9   Aleksandr VolkovSergei TarakanovIgors Miglinie...   \n",
       "10  Thomas COE (GBR)William Henry (GBR)Frederick S...   \n",
       "11  Ernest MOREAU De Melen (BEL)Hilaire Frederik S...   \n",
       "\n",
       "                                                error  \n",
       "0   Can't detect language for the text \"Oscar VARO...  \n",
       "1   Can't detect language for the text \"Marek Švec...  \n",
       "2   Can't detect language for the text \"Timo JUTIL...  \n",
       "3   Can't detect language for the text \"Karel HEIJ...  \n",
       "4   Can't detect language for the text \"Gheorghiță...  \n",
       "5   Can't detect language for the text \"Stefan LIV...  \n",
       "6   Can't detect language for the text \"Jeffrey HY...  \n",
       "7   Can't detect language for the text \"ENGLISH Am...  \n",
       "8   Can't detect language for the text \"Karl-Joach...  \n",
       "9   Can't detect language for the text \"Aleksandr ...  \n",
       "10  Can't detect language for the text \"Thomas COE...  \n",
       "11  Can't detect language for the text \"Ernest MOR...  "
      ]
     },
     "execution_count": 24,
     "metadata": {},
     "output_type": "execute_result"
    }
   ],
   "source": [
    "df_errors = pd.DataFrame(errors)\n",
    "df_errors"
   ]
  }
 ],
 "metadata": {
  "kernelspec": {
   "display_name": "Python 3 (ipykernel)",
   "language": "python",
   "name": "python3"
  },
  "language_info": {
   "codemirror_mode": {
    "name": "ipython",
    "version": 3
   },
   "file_extension": ".py",
   "mimetype": "text/x-python",
   "name": "python",
   "nbconvert_exporter": "python",
   "pygments_lexer": "ipython3",
   "version": "3.12.3"
  },
  "widgets": {
   "application/vnd.jupyter.widget-state+json": {
    "state": {},
    "version_major": 2,
    "version_minor": 0
   }
  }
 },
 "nbformat": 4,
 "nbformat_minor": 5
}
