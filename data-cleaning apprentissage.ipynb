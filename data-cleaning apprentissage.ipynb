{
 "cells": [
  {
   "cell_type": "markdown",
   "id": "af1232fb-12f2-4a61-8963-45f5f9e26f0e",
   "metadata": {},
   "source": [
    "<div style=\"text-align:center;\">\n",
    "    <div class=\"birk\">\n",
    "        <img src=\"JO2024.png\">\n",
    "    </div>\n",
    "</div>"
   ]
  },
  {
   "cell_type": "markdown",
   "id": "903de9a1-d374-430a-8b90-92542380b2e0",
   "metadata": {},
   "source": [
    "<div style=\"background-color:#B96CE6; padding:0px 0; color:white; text-align:center;\">\n",
    "    <h1 style=\"padding-left:50px; font-size:100px; font-weight: bold;\">PROJET JO 2024</h1>\n",
    "</div>"
   ]
  },
  {
   "cell_type": "markdown",
   "id": "3ef6b745-c984-493d-8508-57d280da8872",
   "metadata": {},
   "source": [
    "<div style=\"background-color:#0082C7;padding:0px; color:white;\"text-align:center;\">\n",
    "    <h2 style=\"padding-left: 40px;\">IMPORTATION DES LIBRAIRIES </h2>\n",
    "</div>"
   ]
  },
  {
   "cell_type": "code",
   "execution_count": 4,
   "id": "492c1a94-4904-41ec-b819-1f1b0cf1e0bd",
   "metadata": {},
   "outputs": [],
   "source": [
    "from bs4 import BeautifulSoup\n",
    "import requests\n",
    "import pandas as pd"
   ]
  },
  {
   "cell_type": "markdown",
   "id": "f0714ee7-f1a4-4c51-a69b-122b0c968cbe",
   "metadata": {},
   "source": [
    "<div style=\"background-color:#0082C7;padding:0px; color:white;\">\n",
    "    <h2 style=\"padding-left: 40px;\">IMPORTATION DES DONNEES</h2>\n",
    "</div>"
   ]
  },
  {
   "cell_type": "code",
   "execution_count": 5,
   "id": "583c8b54-0a56-47e8-bd74-76c52211afe9",
   "metadata": {},
   "outputs": [],
   "source": [
    "df_final = pd.read_csv(\"df_final.csv\")"
   ]
  },
  {
   "cell_type": "markdown",
   "id": "dd6253a6-8436-41f2-b4ef-bc77a6e33326",
   "metadata": {},
   "source": [
    "<div style=\"background-color:#01A652;padding:0px; color:white;\">\n",
    "    <h4 style=\"padding-left: 40px;\">Information sur les données</h3>\n",
    "</div>"
   ]
  },
  {
   "cell_type": "code",
   "execution_count": 6,
   "id": "3c69af48-cf08-4a2c-a17d-009cec2b66d0",
   "metadata": {},
   "outputs": [
    {
     "data": {
      "text/html": [
       "<div>\n",
       "<style scoped>\n",
       "    .dataframe tbody tr th:only-of-type {\n",
       "        vertical-align: middle;\n",
       "    }\n",
       "\n",
       "    .dataframe tbody tr th {\n",
       "        vertical-align: top;\n",
       "    }\n",
       "\n",
       "    .dataframe thead th {\n",
       "        text-align: right;\n",
       "    }\n",
       "</style>\n",
       "<table border=\"1\" class=\"dataframe\">\n",
       "  <thead>\n",
       "    <tr style=\"text-align: right;\">\n",
       "      <th></th>\n",
       "      <th>medal</th>\n",
       "      <th>country</th>\n",
       "      <th>athlete_name</th>\n",
       "      <th>games</th>\n",
       "      <th>sport</th>\n",
       "      <th>event</th>\n",
       "    </tr>\n",
       "  </thead>\n",
       "  <tbody>\n",
       "    <tr>\n",
       "      <th>0</th>\n",
       "      <td>3</td>\n",
       "      <td>Afghanistan</td>\n",
       "      <td>Rohullah NIKPAI</td>\n",
       "      <td>China</td>\n",
       "      <td>Taekwondo</td>\n",
       "      <td>- 58 kg</td>\n",
       "    </tr>\n",
       "    <tr>\n",
       "      <th>1</th>\n",
       "      <td>3</td>\n",
       "      <td>Afghanistan</td>\n",
       "      <td>Rohullah NIKPAI</td>\n",
       "      <td>Great Britain</td>\n",
       "      <td>Taekwondo</td>\n",
       "      <td>58 - 68 kg</td>\n",
       "    </tr>\n",
       "    <tr>\n",
       "      <th>2</th>\n",
       "      <td>3</td>\n",
       "      <td>Algeria</td>\n",
       "      <td>Mohamed ZAOUI</td>\n",
       "      <td>United States</td>\n",
       "      <td>Boxing</td>\n",
       "      <td>71 - 75kg (middleweight)</td>\n",
       "    </tr>\n",
       "    <tr>\n",
       "      <th>3</th>\n",
       "      <td>3</td>\n",
       "      <td>Algeria</td>\n",
       "      <td>Mustapha MOUSSA</td>\n",
       "      <td>United States</td>\n",
       "      <td>Boxing</td>\n",
       "      <td>75 - 81kg (light-heavyweight)</td>\n",
       "    </tr>\n",
       "    <tr>\n",
       "      <th>4</th>\n",
       "      <td>1</td>\n",
       "      <td>Algeria</td>\n",
       "      <td>Hassiba BOULMERKA</td>\n",
       "      <td>Spain</td>\n",
       "      <td>Athletics</td>\n",
       "      <td>1500m</td>\n",
       "    </tr>\n",
       "  </tbody>\n",
       "</table>\n",
       "</div>"
      ],
      "text/plain": [
       "   medal      country       athlete_name          games      sport  \\\n",
       "0      3  Afghanistan    Rohullah NIKPAI          China  Taekwondo   \n",
       "1      3  Afghanistan    Rohullah NIKPAI  Great Britain  Taekwondo   \n",
       "2      3      Algeria      Mohamed ZAOUI  United States     Boxing   \n",
       "3      3      Algeria    Mustapha MOUSSA  United States     Boxing   \n",
       "4      1      Algeria  Hassiba BOULMERKA          Spain  Athletics   \n",
       "\n",
       "                           event  \n",
       "0                        - 58 kg  \n",
       "1                     58 - 68 kg  \n",
       "2       71 - 75kg (middleweight)  \n",
       "3  75 - 81kg (light-heavyweight)  \n",
       "4                          1500m  "
      ]
     },
     "execution_count": 6,
     "metadata": {},
     "output_type": "execute_result"
    }
   ],
   "source": [
    "df_final.head(5)"
   ]
  },
  {
   "cell_type": "code",
   "execution_count": 7,
   "id": "900da3c7-5d0c-4da8-95e2-c0a5af191772",
   "metadata": {},
   "outputs": [
    {
     "name": "stdout",
     "output_type": "stream",
     "text": [
      "<class 'pandas.core.frame.DataFrame'>\n",
      "RangeIndex: 20281 entries, 0 to 20280\n",
      "Data columns (total 6 columns):\n",
      " #   Column        Non-Null Count  Dtype \n",
      "---  ------        --------------  ----- \n",
      " 0   medal         20281 non-null  int64 \n",
      " 1   country       20281 non-null  object\n",
      " 2   athlete_name  19858 non-null  object\n",
      " 3   games         20281 non-null  object\n",
      " 4   sport         20281 non-null  object\n",
      " 5   event         20281 non-null  object\n",
      "dtypes: int64(1), object(5)\n",
      "memory usage: 950.8+ KB\n"
     ]
    }
   ],
   "source": [
    "df_final.info()"
   ]
  },
  {
   "cell_type": "code",
   "execution_count": 8,
   "id": "3b4ef9fa-0de5-4095-9b68-f8bfd7014b81",
   "metadata": {},
   "outputs": [
    {
     "data": {
      "text/html": [
       "<div>\n",
       "<style scoped>\n",
       "    .dataframe tbody tr th:only-of-type {\n",
       "        vertical-align: middle;\n",
       "    }\n",
       "\n",
       "    .dataframe tbody tr th {\n",
       "        vertical-align: top;\n",
       "    }\n",
       "\n",
       "    .dataframe thead th {\n",
       "        text-align: right;\n",
       "    }\n",
       "</style>\n",
       "<table border=\"1\" class=\"dataframe\">\n",
       "  <thead>\n",
       "    <tr style=\"text-align: right;\">\n",
       "      <th></th>\n",
       "      <th>country</th>\n",
       "      <th>athlete_name</th>\n",
       "      <th>games</th>\n",
       "      <th>sport</th>\n",
       "      <th>event</th>\n",
       "    </tr>\n",
       "  </thead>\n",
       "  <tbody>\n",
       "    <tr>\n",
       "      <th>count</th>\n",
       "      <td>20281</td>\n",
       "      <td>19858</td>\n",
       "      <td>20281</td>\n",
       "      <td>20281</td>\n",
       "      <td>20281</td>\n",
       "    </tr>\n",
       "    <tr>\n",
       "      <th>unique</th>\n",
       "      <td>155</td>\n",
       "      <td>16337</td>\n",
       "      <td>25</td>\n",
       "      <td>79</td>\n",
       "      <td>709</td>\n",
       "    </tr>\n",
       "    <tr>\n",
       "      <th>top</th>\n",
       "      <td>United States</td>\n",
       "      <td>United States</td>\n",
       "      <td>United States</td>\n",
       "      <td>Athletics</td>\n",
       "      <td>individual</td>\n",
       "    </tr>\n",
       "    <tr>\n",
       "      <th>freq</th>\n",
       "      <td>2959</td>\n",
       "      <td>22</td>\n",
       "      <td>2628</td>\n",
       "      <td>3087</td>\n",
       "      <td>602</td>\n",
       "    </tr>\n",
       "  </tbody>\n",
       "</table>\n",
       "</div>"
      ],
      "text/plain": [
       "              country   athlete_name          games      sport       event\n",
       "count           20281          19858          20281      20281       20281\n",
       "unique            155          16337             25         79         709\n",
       "top     United States  United States  United States  Athletics  individual\n",
       "freq             2959             22           2628       3087         602"
      ]
     },
     "execution_count": 8,
     "metadata": {},
     "output_type": "execute_result"
    }
   ],
   "source": [
    "df_final.describe(include =\"object\")\n",
    "#Le include object signifie qu'on veut inclure que les Dtypes object"
   ]
  },
  {
   "cell_type": "markdown",
   "id": "36f0c577-4680-4041-8963-74d0789d0340",
   "metadata": {},
   "source": [
    "<div style=\"background-color:#01A652;padding:0px; color:white;\">\n",
    "    <h4 style=\"padding-left: 40px;\">Valeur Null</h3>\n",
    "</div>"
   ]
  },
  {
   "cell_type": "code",
   "execution_count": 9,
   "id": "9d44306c-f4c4-4d19-bdd6-17e716b3956b",
   "metadata": {},
   "outputs": [
    {
     "data": {
      "text/plain": [
       "medal             0\n",
       "country           0\n",
       "athlete_name    423\n",
       "games             0\n",
       "sport             0\n",
       "event             0\n",
       "dtype: int64"
      ]
     },
     "execution_count": 9,
     "metadata": {},
     "output_type": "execute_result"
    }
   ],
   "source": [
    "null_counts = df_final.isnull().sum()\n",
    "null_counts"
   ]
  },
  {
   "cell_type": "markdown",
   "id": "ca10cc8c-c55a-47aa-b347-7a55c6d814d5",
   "metadata": {},
   "source": [
    "<div style=\"background-color:#01A652;padding:0px; color:white;\">\n",
    "    <h4 style=\"padding-left: 40px;\">Remplacer les valeurs Null par du vide</h3>\n",
    "</div>"
   ]
  },
  {
   "cell_type": "code",
   "execution_count": 10,
   "id": "911fcef4-aad9-49cf-af7b-ebdd5e3f47cb",
   "metadata": {},
   "outputs": [
    {
     "data": {
      "text/html": [
       "<div>\n",
       "<style scoped>\n",
       "    .dataframe tbody tr th:only-of-type {\n",
       "        vertical-align: middle;\n",
       "    }\n",
       "\n",
       "    .dataframe tbody tr th {\n",
       "        vertical-align: top;\n",
       "    }\n",
       "\n",
       "    .dataframe thead th {\n",
       "        text-align: right;\n",
       "    }\n",
       "</style>\n",
       "<table border=\"1\" class=\"dataframe\">\n",
       "  <thead>\n",
       "    <tr style=\"text-align: right;\">\n",
       "      <th></th>\n",
       "      <th>medal</th>\n",
       "      <th>country</th>\n",
       "      <th>athlete_name</th>\n",
       "      <th>games</th>\n",
       "      <th>sport</th>\n",
       "      <th>event</th>\n",
       "    </tr>\n",
       "  </thead>\n",
       "  <tbody>\n",
       "    <tr>\n",
       "      <th>0</th>\n",
       "      <td>3</td>\n",
       "      <td>Afghanistan</td>\n",
       "      <td>Rohullah NIKPAI</td>\n",
       "      <td>China</td>\n",
       "      <td>Taekwondo</td>\n",
       "      <td>- 58 kg</td>\n",
       "    </tr>\n",
       "    <tr>\n",
       "      <th>1</th>\n",
       "      <td>3</td>\n",
       "      <td>Afghanistan</td>\n",
       "      <td>Rohullah NIKPAI</td>\n",
       "      <td>Great Britain</td>\n",
       "      <td>Taekwondo</td>\n",
       "      <td>58 - 68 kg</td>\n",
       "    </tr>\n",
       "    <tr>\n",
       "      <th>2</th>\n",
       "      <td>3</td>\n",
       "      <td>Algeria</td>\n",
       "      <td>Mohamed ZAOUI</td>\n",
       "      <td>United States</td>\n",
       "      <td>Boxing</td>\n",
       "      <td>71 - 75kg (middleweight)</td>\n",
       "    </tr>\n",
       "    <tr>\n",
       "      <th>3</th>\n",
       "      <td>3</td>\n",
       "      <td>Algeria</td>\n",
       "      <td>Mustapha MOUSSA</td>\n",
       "      <td>United States</td>\n",
       "      <td>Boxing</td>\n",
       "      <td>75 - 81kg (light-heavyweight)</td>\n",
       "    </tr>\n",
       "    <tr>\n",
       "      <th>4</th>\n",
       "      <td>1</td>\n",
       "      <td>Algeria</td>\n",
       "      <td>Hassiba BOULMERKA</td>\n",
       "      <td>Spain</td>\n",
       "      <td>Athletics</td>\n",
       "      <td>1500m</td>\n",
       "    </tr>\n",
       "  </tbody>\n",
       "</table>\n",
       "</div>"
      ],
      "text/plain": [
       "   medal      country       athlete_name          games      sport  \\\n",
       "0      3  Afghanistan    Rohullah NIKPAI          China  Taekwondo   \n",
       "1      3  Afghanistan    Rohullah NIKPAI  Great Britain  Taekwondo   \n",
       "2      3      Algeria      Mohamed ZAOUI  United States     Boxing   \n",
       "3      3      Algeria    Mustapha MOUSSA  United States     Boxing   \n",
       "4      1      Algeria  Hassiba BOULMERKA          Spain  Athletics   \n",
       "\n",
       "                           event  \n",
       "0                        - 58 kg  \n",
       "1                     58 - 68 kg  \n",
       "2       71 - 75kg (middleweight)  \n",
       "3  75 - 81kg (light-heavyweight)  \n",
       "4                          1500m  "
      ]
     },
     "execution_count": 10,
     "metadata": {},
     "output_type": "execute_result"
    }
   ],
   "source": [
    "df_final.fillna(\"\", inplace = True)\n",
    "df_final.head(5)"
   ]
  },
  {
   "cell_type": "markdown",
   "id": "d2c3d458-d07a-4075-a312-54420cb87b9b",
   "metadata": {},
   "source": [
    "<div style=\"background-color:#01A652;padding:0px; color:white;\">\n",
    "    <h4 style=\"padding-left: 40px;\">Valeurs sur athlete_name</h3>\n",
    "</div>"
   ]
  },
  {
   "cell_type": "markdown",
   "id": "2f9c4f0b-6384-4cdb-abb4-c6fffeaa34c1",
   "metadata": {},
   "source": [
    "Pour cela nous allons avoir besoin d'utiliser : **Python RegEx** ou **Expressions Régulières**\\\n",
    "\n",
    "Le terme **RegEx** désigne, en abrégé, les expressions régulières.\n",
    "\n",
    "Le module **re** de Python permet d'utiliser des expressions régulières et permet de rechercher des modèles spécifiques dans les chaînes de caractères.\\\n",
    "Les expressions régulières sont souvent utilisées pour vérifier que les données renseignées par les utilisateurs d’un programme respectent bien le format prescrit."
   ]
  },
  {
   "cell_type": "code",
   "execution_count": 11,
   "id": "7636b3bf-dbf2-4989-bb76-835af0083473",
   "metadata": {},
   "outputs": [],
   "source": [
    "#bibliothèque regex\n",
    "import re"
   ]
  },
  {
   "cell_type": "code",
   "execution_count": 12,
   "id": "1f72af9e-7cfa-4481-89cf-c22bac90a6fd",
   "metadata": {},
   "outputs": [],
   "source": [
    "latin_regex = r'[A-Za-zÀ-ÿ]' #Récupération du language/alphabet latin\n",
    "\n",
    "#Création de 2 df avec et sans language Latin\n",
    "\n",
    "df_latin = df_final[df_final[\"athlete_name\"].str.contains(latin_regex, regex=True)]\n",
    "df_nonlatin = df_final[~df_final[\"athlete_name\"].str.contains(latin_regex, regex=True)]"
   ]
  },
  {
   "cell_type": "markdown",
   "id": "51d03d20",
   "metadata": {},
   "source": [
    "## <a id='toc1_1_'></a>[](#toc0_)"
   ]
  },
  {
   "cell_type": "markdown",
   "id": "810aa592-b216-4f27-8564-f104c4741983",
   "metadata": {},
   "source": [
    "- Le **r** devant la chaîne de caractères de l'expression régulière signifie \"**raw string**\" en Python.\\\n",
    "En Python, une chaîne de caractères est une séquence de caractères entourée de guillemets.\n",
    "\n",
    "**Par exemple :**"
   ]
  },
  {
   "cell_type": "markdown",
   "id": "13f0cfdb-cffb-4858-9b33-5aaf670e1c80",
   "metadata": {},
   "source": [
    "\n",
    "chaine = \"Bonjour\"\n"
   ]
  },
  {
   "cell_type": "markdown",
   "id": "f14872da-6b5b-4d29-ad66-735db77a9df2",
   "metadata": {},
   "source": [
    "**Caractères d'Échappement :**\\\n",
    "Les caractères d'échappement sont des séquences de caractères spéciales qui commencent par une barre oblique inverse (\\).\\\n",
    "Ils sont utilisés pour représenter des caractères qui autrement seraient difficiles à inclure dans une chaîne.\n",
    "\n",
    "**Quelques exemples :**\n",
    "- **\\n** représente un saut de ligne (nouvelle ligne).\n",
    "- **\\t** représente une tabulation.\n",
    "- **\\\\** représente une barre oblique inverse littérale.\n",
    "\n",
    "**Exemple d'utilisation :**"
   ]
  },
  {
   "cell_type": "code",
   "execution_count": null,
   "id": "50a9f99d-d531-4033-9e67-ab3f0ea9df8d",
   "metadata": {},
   "outputs": [
    {
     "name": "stdout",
     "output_type": "stream",
     "text": [
      "Bonjour\n",
      "Comment ça va?\n"
     ]
    }
   ],
   "source": [
    "# \\n permet le renvoi à la ligne  \n",
    "chaine = \"Bonjour\\nComment ça va?\"\n",
    "print(chaine)"
   ]
  },
  {
   "cell_type": "markdown",
   "id": "04427d5e-fa6a-4432-b83a-2ee9fd103576",
   "metadata": {},
   "source": [
    "**Problème des Caractères d'Échappement :**\\\n",
    "Supposons que vous vouliez écrire un chemin de fichier Windows dans une chaîne. Vous devez utiliser des barres obliques inverses (\\), mais elles sont aussi des caractères d'échappement. \n",
    "\n",
    "Vous devez donc les doubler :"
   ]
  },
  {
   "cell_type": "code",
   "execution_count": 30,
   "id": "1f3fc91d-fb0a-4af4-896f-55f226687d28",
   "metadata": {},
   "outputs": [],
   "source": [
    "chemin = \"C:\\\\Users\\\\nom\\\\fichier.txt\""
   ]
  },
  {
   "cell_type": "markdown",
   "id": "2ba677d2-cbe5-49f2-8ef3-8539d3ac2094",
   "metadata": {},
   "source": [
    "**Raw String (r)**\\\n",
    "Pour simplifier l'écriture des chaînes qui contiennent beaucoup de barres obliques inverses, Python permet d'utiliser des raw strings.\\\n",
    "Une raw string est précédée par un r (ou R) et traite toutes les barres obliques inverses littéralement, sans les interpréter comme des caractères d'échappement.\n",
    "\n",
    "**Exemple de raw string :**"
   ]
  },
  {
   "cell_type": "code",
   "execution_count": 16,
   "id": "1afca6c3-ce4f-4629-99fb-92e115b5c499",
   "metadata": {},
   "outputs": [],
   "source": [
    "chemin = r\"C:\\Users\\nom\\fichier.txt\""
   ]
  },
  {
   "cell_type": "markdown",
   "id": "f0b04990-a91e-49dd-b447-c6ed397dd86f",
   "metadata": {},
   "source": [
    "Avec **r**, vous n'avez plus besoin de doubler les barres obliques inverses. La chaîne est prise \"telle quelle\".\n",
    "\n",
    "**Raw Strings et Expressions Régulières**\\\n",
    "Les expressions régulières (regex) utilisent beaucoup de barres obliques inverses.\\\n",
    "Utiliser des raw strings pour les expressions régulières rend le code plus lisible et moins sujet aux erreurs."
   ]
  },
  {
   "cell_type": "markdown",
   "id": "0c9ddd76-4401-4146-a4a1-fe3e510832d0",
   "metadata": {},
   "source": [
    "- [A-Za-z] correspond à toutes les lettres majuscules et minuscules de l'alphabet latin sans accents (de A à Z et de a à z).\n",
    "- [À-ÿ] couvre les caractères latins étendus, incluant les lettres accentuées et autres caractères latins spécifiques (comme à, é, ü, etc.)."
   ]
  },
  {
   "cell_type": "markdown",
   "id": "fa3f8a92",
   "metadata": {},
   "source": [
    "## <a id='toc1_2_'></a>[](#toc0_)"
   ]
  },
  {
   "cell_type": "markdown",
   "id": "7e956d57",
   "metadata": {},
   "source": [
    "### <a id='toc1_2_1_'></a>[](#toc0_)"
   ]
  },
  {
   "cell_type": "code",
   "execution_count": 17,
   "id": "c630bce1-c848-4f15-affa-2e3a966418c3",
   "metadata": {},
   "outputs": [
    {
     "data": {
      "text/html": [
       "<div>\n",
       "<style scoped>\n",
       "    .dataframe tbody tr th:only-of-type {\n",
       "        vertical-align: middle;\n",
       "    }\n",
       "\n",
       "    .dataframe tbody tr th {\n",
       "        vertical-align: top;\n",
       "    }\n",
       "\n",
       "    .dataframe thead th {\n",
       "        text-align: right;\n",
       "    }\n",
       "</style>\n",
       "<table border=\"1\" class=\"dataframe\">\n",
       "  <thead>\n",
       "    <tr style=\"text-align: right;\">\n",
       "      <th></th>\n",
       "      <th>medal</th>\n",
       "      <th>country</th>\n",
       "      <th>athlete_name</th>\n",
       "      <th>games</th>\n",
       "      <th>sport</th>\n",
       "      <th>event</th>\n",
       "    </tr>\n",
       "  </thead>\n",
       "  <tbody>\n",
       "    <tr>\n",
       "      <th>5523</th>\n",
       "      <td>3</td>\n",
       "      <td>Germany</td>\n",
       "      <td>Günther HAASE</td>\n",
       "      <td>Finland</td>\n",
       "      <td>Diving</td>\n",
       "      <td>10m platform</td>\n",
       "    </tr>\n",
       "    <tr>\n",
       "      <th>1495</th>\n",
       "      <td>3</td>\n",
       "      <td>Brazil</td>\n",
       "      <td>SILVA Rafael</td>\n",
       "      <td>Brazil</td>\n",
       "      <td>Judo</td>\n",
       "      <td>+ 100kg (heavyweight)</td>\n",
       "    </tr>\n",
       "    <tr>\n",
       "      <th>13997</th>\n",
       "      <td>3</td>\n",
       "      <td>Switzerland</td>\n",
       "      <td>Xaver KURMANN</td>\n",
       "      <td>Mexico</td>\n",
       "      <td>Cycling Track</td>\n",
       "      <td>individual pursuit</td>\n",
       "    </tr>\n",
       "    <tr>\n",
       "      <th>20100</th>\n",
       "      <td>3</td>\n",
       "      <td>USSR</td>\n",
       "      <td>Alexandra TIMOSHENKO</td>\n",
       "      <td>Korea Republic</td>\n",
       "      <td>Gymnastics Rhythmic</td>\n",
       "      <td>individual all-round</td>\n",
       "    </tr>\n",
       "    <tr>\n",
       "      <th>11706</th>\n",
       "      <td>3</td>\n",
       "      <td>Poland</td>\n",
       "      <td>Lucyna LANGER</td>\n",
       "      <td>USSR</td>\n",
       "      <td>Athletics</td>\n",
       "      <td>100m hurdles</td>\n",
       "    </tr>\n",
       "    <tr>\n",
       "      <th>5270</th>\n",
       "      <td>3</td>\n",
       "      <td>Georgia</td>\n",
       "      <td>TURMANIDZE Irakli</td>\n",
       "      <td>Brazil</td>\n",
       "      <td>Weightlifting</td>\n",
       "      <td>+ 105kg (super heavyweight)</td>\n",
       "    </tr>\n",
       "    <tr>\n",
       "      <th>17712</th>\n",
       "      <td>1</td>\n",
       "      <td>Czechoslovakia</td>\n",
       "      <td>Vera CÁSLAVSKÁ</td>\n",
       "      <td>Mexico</td>\n",
       "      <td>Gymnastics Artistic</td>\n",
       "      <td>vault</td>\n",
       "    </tr>\n",
       "    <tr>\n",
       "      <th>6070</th>\n",
       "      <td>1</td>\n",
       "      <td>Germany</td>\n",
       "      <td>Germany</td>\n",
       "      <td>Brazil</td>\n",
       "      <td>Canoe Sprint</td>\n",
       "      <td>K-4 1000m (kayak four)</td>\n",
       "    </tr>\n",
       "    <tr>\n",
       "      <th>2952</th>\n",
       "      <td>1</td>\n",
       "      <td>China</td>\n",
       "      <td>YANG Qian</td>\n",
       "      <td>Japan</td>\n",
       "      <td>Shooting</td>\n",
       "      <td>10m air rifle</td>\n",
       "    </tr>\n",
       "    <tr>\n",
       "      <th>7825</th>\n",
       "      <td>1</td>\n",
       "      <td>India</td>\n",
       "      <td>Maxie VAZReginald RODRIGUESGerry GLACKENLawrie...</td>\n",
       "      <td>Great Britain</td>\n",
       "      <td>Hockey</td>\n",
       "      <td>hockey</td>\n",
       "    </tr>\n",
       "  </tbody>\n",
       "</table>\n",
       "</div>"
      ],
      "text/plain": [
       "       medal         country  \\\n",
       "5523       3         Germany   \n",
       "1495       3          Brazil   \n",
       "13997      3     Switzerland   \n",
       "20100      3            USSR   \n",
       "11706      3          Poland   \n",
       "5270       3         Georgia   \n",
       "17712      1  Czechoslovakia   \n",
       "6070       1         Germany   \n",
       "2952       1           China   \n",
       "7825       1           India   \n",
       "\n",
       "                                            athlete_name           games  \\\n",
       "5523                                       Günther HAASE         Finland   \n",
       "1495                                        SILVA Rafael          Brazil   \n",
       "13997                                      Xaver KURMANN          Mexico   \n",
       "20100                               Alexandra TIMOSHENKO  Korea Republic   \n",
       "11706                                      Lucyna LANGER            USSR   \n",
       "5270                                   TURMANIDZE Irakli          Brazil   \n",
       "17712                                     Vera CÁSLAVSKÁ          Mexico   \n",
       "6070                                             Germany          Brazil   \n",
       "2952                                           YANG Qian           Japan   \n",
       "7825   Maxie VAZReginald RODRIGUESGerry GLACKENLawrie...   Great Britain   \n",
       "\n",
       "                     sport                        event  \n",
       "5523                Diving                 10m platform  \n",
       "1495                  Judo        + 100kg (heavyweight)  \n",
       "13997        Cycling Track           individual pursuit  \n",
       "20100  Gymnastics Rhythmic         individual all-round  \n",
       "11706            Athletics                 100m hurdles  \n",
       "5270         Weightlifting  + 105kg (super heavyweight)  \n",
       "17712  Gymnastics Artistic                        vault  \n",
       "6070          Canoe Sprint       K-4 1000m (kayak four)  \n",
       "2952              Shooting                10m air rifle  \n",
       "7825                Hockey                       hockey  "
      ]
     },
     "execution_count": 17,
     "metadata": {},
     "output_type": "execute_result"
    }
   ],
   "source": [
    "df_latin.sample(10)"
   ]
  },
  {
   "cell_type": "markdown",
   "id": "ac7eff4e",
   "metadata": {},
   "source": [
    "### <a id='toc1_2_2_'></a>[](#toc0_)"
   ]
  },
  {
   "cell_type": "code",
   "execution_count": 18,
   "id": "d8b24020-6376-46e8-8a5b-9ea2fbe16389",
   "metadata": {},
   "outputs": [
    {
     "data": {
      "text/html": [
       "<div>\n",
       "<style scoped>\n",
       "    .dataframe tbody tr th:only-of-type {\n",
       "        vertical-align: middle;\n",
       "    }\n",
       "\n",
       "    .dataframe tbody tr th {\n",
       "        vertical-align: top;\n",
       "    }\n",
       "\n",
       "    .dataframe thead th {\n",
       "        text-align: right;\n",
       "    }\n",
       "</style>\n",
       "<table border=\"1\" class=\"dataframe\">\n",
       "  <thead>\n",
       "    <tr style=\"text-align: right;\">\n",
       "      <th></th>\n",
       "      <th>medal</th>\n",
       "      <th>country</th>\n",
       "      <th>athlete_name</th>\n",
       "      <th>games</th>\n",
       "      <th>sport</th>\n",
       "      <th>event</th>\n",
       "    </tr>\n",
       "  </thead>\n",
       "  <tbody>\n",
       "    <tr>\n",
       "      <th>5862</th>\n",
       "      <td>1</td>\n",
       "      <td>Germany</td>\n",
       "      <td>Катрин Рутшоу-Стомпоровски</td>\n",
       "      <td>Greece</td>\n",
       "      <td>Rowing</td>\n",
       "      <td>single sculls (1x)</td>\n",
       "    </tr>\n",
       "    <tr>\n",
       "      <th>10834</th>\n",
       "      <td>2</td>\n",
       "      <td>New Zealand</td>\n",
       "      <td>Кларк</td>\n",
       "      <td>United States</td>\n",
       "      <td>Equestrian Eventing</td>\n",
       "      <td>individual</td>\n",
       "    </tr>\n",
       "    <tr>\n",
       "      <th>440</th>\n",
       "      <td>3</td>\n",
       "      <td>Australia</td>\n",
       "      <td>Катрин Борхерт</td>\n",
       "      <td>Australia</td>\n",
       "      <td>Canoe Sprint</td>\n",
       "      <td>K-1 500m (kayak single)</td>\n",
       "    </tr>\n",
       "    <tr>\n",
       "      <th>10279</th>\n",
       "      <td>2</td>\n",
       "      <td>Morocco</td>\n",
       "      <td>Хишам Эль-Герруж</td>\n",
       "      <td>Australia</td>\n",
       "      <td>Athletics</td>\n",
       "      <td>1500m</td>\n",
       "    </tr>\n",
       "    <tr>\n",
       "      <th>4911</th>\n",
       "      <td>2</td>\n",
       "      <td>France</td>\n",
       "      <td>Лонго</td>\n",
       "      <td>United States</td>\n",
       "      <td>Cycling Road</td>\n",
       "      <td>individual time trial</td>\n",
       "    </tr>\n",
       "    <tr>\n",
       "      <th>7718</th>\n",
       "      <td>1</td>\n",
       "      <td>Hungary</td>\n",
       "      <td></td>\n",
       "      <td>Australia</td>\n",
       "      <td>Canoe Sprint</td>\n",
       "      <td>C-2 500m (canoe double)</td>\n",
       "    </tr>\n",
       "    <tr>\n",
       "      <th>2486</th>\n",
       "      <td>3</td>\n",
       "      <td>China</td>\n",
       "      <td>Ван Ксянбо</td>\n",
       "      <td>United States</td>\n",
       "      <td>Judo</td>\n",
       "      <td>61 - 66kg (middleweight)</td>\n",
       "    </tr>\n",
       "    <tr>\n",
       "      <th>10517</th>\n",
       "      <td>1</td>\n",
       "      <td>Netherlands</td>\n",
       "      <td></td>\n",
       "      <td>United States</td>\n",
       "      <td>Volleyball</td>\n",
       "      <td>volleyball</td>\n",
       "    </tr>\n",
       "    <tr>\n",
       "      <th>2543</th>\n",
       "      <td>2</td>\n",
       "      <td>China</td>\n",
       "      <td></td>\n",
       "      <td>Australia</td>\n",
       "      <td>Table Tennis</td>\n",
       "      <td>doubles</td>\n",
       "    </tr>\n",
       "    <tr>\n",
       "      <th>2561</th>\n",
       "      <td>2</td>\n",
       "      <td>China</td>\n",
       "      <td>Ли Цзяцзюнь</td>\n",
       "      <td>United States</td>\n",
       "      <td>Short Track Speed Skating</td>\n",
       "      <td>1500m</td>\n",
       "    </tr>\n",
       "  </tbody>\n",
       "</table>\n",
       "</div>"
      ],
      "text/plain": [
       "       medal      country                athlete_name          games  \\\n",
       "5862       1      Germany  Катрин Рутшоу-Стомпоровски         Greece   \n",
       "10834      2  New Zealand                       Кларк  United States   \n",
       "440        3    Australia              Катрин Борхерт      Australia   \n",
       "10279      2      Morocco            Хишам Эль-Герруж      Australia   \n",
       "4911       2       France                       Лонго  United States   \n",
       "7718       1      Hungary                                  Australia   \n",
       "2486       3        China                  Ван Ксянбо  United States   \n",
       "10517      1  Netherlands                              United States   \n",
       "2543       2        China                                  Australia   \n",
       "2561       2        China                 Ли Цзяцзюнь  United States   \n",
       "\n",
       "                           sport                     event  \n",
       "5862                      Rowing        single sculls (1x)  \n",
       "10834        Equestrian Eventing                individual  \n",
       "440                 Canoe Sprint   K-1 500m (kayak single)  \n",
       "10279                  Athletics                     1500m  \n",
       "4911                Cycling Road     individual time trial  \n",
       "7718                Canoe Sprint   C-2 500m (canoe double)  \n",
       "2486                        Judo  61 - 66kg (middleweight)  \n",
       "10517                 Volleyball                volleyball  \n",
       "2543                Table Tennis                   doubles  \n",
       "2561   Short Track Speed Skating                     1500m  "
      ]
     },
     "execution_count": 18,
     "metadata": {},
     "output_type": "execute_result"
    }
   ],
   "source": [
    "df_nonlatin.sample(10)"
   ]
  },
  {
   "cell_type": "markdown",
   "id": "7523bbd0-1455-433b-a675-74fde40db03c",
   "metadata": {},
   "source": [
    "Le but ici etait de voir si il y avait des chaines de caractere differents .\n",
    "Cette approche permet de séparer les données en deux groupes : \n",
    "- Ceux avec des noms contenant des caractères latins\n",
    "- Ceux sans caractères latins.\n",
    "\n",
    "Cela nous aide pour la suite de notre annalyse car maintenant qu'allons traduire le dataframe df_nonlatin pour le mettre sous format latin"
   ]
  },
  {
   "cell_type": "markdown",
   "id": "461a63df-8559-48d0-bf63-4b0537fed8ba",
   "metadata": {},
   "source": [
    "<div style=\"background-color:#0082C7;padding:0px; color:white;\">\n",
    "    <h2 style=\"padding-left: 40px;\">NETTOYAGE DES DONNEES</h2>\n",
    "</div>"
   ]
  },
  {
   "cell_type": "markdown",
   "id": "ad493431",
   "metadata": {},
   "source": []
  },
  {
   "cell_type": "code",
   "execution_count": null,
   "id": "c6b894c1-c90a-4b9e-9fa7-812e66441f31",
   "metadata": {
    "vscode": {
     "languageId": "plaintext"
    }
   },
   "outputs": [],
   "source": [
    " # Check chars non-ASCII\n",
    "def contains_non_ascii (strings):\n",
    "    \n",
    "    resultat = any(ord(char) > 127 for char in strings) #ord c'est le retoune le unicode pour un caratere\n",
    "    return resultat\n",
    "    \n",
    "# Filtrer non-ASCII & ASCII name\n",
    "df_non_ascii = df_final[df_final['athlete_name'].apply(contains_non_ascii)]\n",
    "df_ascii = df_final[~df_final['athlete_name'].apply(contains_non_ascii)]\n",
    "\n",
    "\n",
    "\n",
    "#df_non_ascii = df_final[df_final['athlete_name'].apply(contains_non_ascii)] = df_non_ascii = df_final.iloc[df_final['athlete_name'].apply(contains_non_ascii)]\n",
    "# une fonction a toujours des parantheses\n",
    "# Pour faire appelle a une colonne c'est entre crochet \n",
    "# le signe ~ signifie tilde c'est l'inverse de quelque chose quelque chose qui est a 1 passera à 0\n",
    "\n"
   ]
  },
  {
   "cell_type": "code",
   "execution_count": null,
   "id": "4b99aa10-5a42-4074-bb87-af2a880bfc58",
   "metadata": {
    "vscode": {
     "languageId": "plaintext"
    }
   },
   "outputs": [],
   "source": [
    "df_athlete_name = df_final[\"athlete_name\"]\n",
    "df_athlete_name = pd.DataFrame(df_athlete_name)\n",
    "df_athlete_name.head(5)"
   ]
  },
  {
   "cell_type": "markdown",
   "id": "f3b92aeb-1f67-480b-9e4e-2659551fef57",
   "metadata": {},
   "source": [
    "<div style=\"background-color:#0082C7;padding:0px; color:white;\">\n",
    "    <h2 style=\"padding-left: 40px;\">ANCIENNE METHODE POUR CIBLER LES ATHLETES</h2>\n",
    "</div>"
   ]
  },
  {
   "cell_type": "markdown",
   "id": "59ae813e-9b66-499d-ad34-c2479fe262f7",
   "metadata": {},
   "source": [
    "<div style=\"background-color:#FCB030;padding:0px; color:white;\">\n",
    "    <h3 style=\"padding-left: 40px;\">Creer 2 tables : une table \"ASCII\" et une table \"non ASCII\"</h3>\n",
    "</div>"
   ]
  },
  {
   "cell_type": "markdown",
   "id": "b563a40c-f962-4ca0-8e73-83b1b7387e3d",
   "metadata": {},
   "source": [
    "**ASCII :** il s'agit d'un encodage de caractères, l'American Standard Code for Information Interchange, précurseur américain de l'ISO 646 (qui définit des ensembles de caractères à l'international)."
   ]
  },
  {
   "cell_type": "markdown",
   "id": "088d86fb-4df7-4521-91ef-04ed903518d3",
   "metadata": {},
   "source": [
    "<div style=\"text-align:center;\">\n",
    "    <div class=\"birk\">\n",
    "        <img src=\"ascii.png\">\n",
    "    </div>\n",
    "</div>"
   ]
  },
  {
   "cell_type": "code",
   "execution_count": 19,
   "id": "25778c96-e6aa-4500-bacc-9f4037de9512",
   "metadata": {},
   "outputs": [],
   "source": [
    "# Check chars non-ASCII\n",
    "def contains_non_ascii (strings):\n",
    "    \n",
    "    resultat = any(ord(char) > 127 for char in strings) #ord c'est le retoune le unicode pour un caratere\n",
    "    return resultat\n",
    "    \n",
    "# Filtrer non-ASCII & ASCII name\n",
    "df_non_ascii = df_final[df_final['athlete_name'].apply(contains_non_ascii)]\n",
    "df_ascii = df_final[~df_final['athlete_name'].apply(contains_non_ascii)]\n",
    "\n",
    "\n",
    "\n",
    "#df_non_ascii = df_final[df_final['athlete_name'].apply(contains_non_ascii)] = df_non_ascii = df_final.iloc[df_final['athlete_name'].apply(contains_non_ascii)]\n",
    "# une fonction a toujours des parentheses\n",
    "# Pour faire appelle a une colonne c'est entre crochet \n",
    "# le signe ~ signifie tilde c'est l'inverse de quelque chose quelque chose qui est a 1 passera à 0"
   ]
  },
  {
   "cell_type": "markdown",
   "id": "b7a51250-060a-439c-9878-ef6ebc3e4585",
   "metadata": {},
   "source": [
    "<div style=\"background-color:#01A652;padding:0px; color:white;\">\n",
    "    <h4 style=\"padding-left: 40px;\">Table ASCII</h3>\n",
    "</div>"
   ]
  },
  {
   "cell_type": "code",
   "execution_count": 20,
   "id": "170d811f-ff4f-4af4-9225-2de7d64ee52e",
   "metadata": {},
   "outputs": [
    {
     "data": {
      "text/html": [
       "<div>\n",
       "<style scoped>\n",
       "    .dataframe tbody tr th:only-of-type {\n",
       "        vertical-align: middle;\n",
       "    }\n",
       "\n",
       "    .dataframe tbody tr th {\n",
       "        vertical-align: top;\n",
       "    }\n",
       "\n",
       "    .dataframe thead th {\n",
       "        text-align: right;\n",
       "    }\n",
       "</style>\n",
       "<table border=\"1\" class=\"dataframe\">\n",
       "  <thead>\n",
       "    <tr style=\"text-align: right;\">\n",
       "      <th></th>\n",
       "      <th>medal</th>\n",
       "      <th>country</th>\n",
       "      <th>athlete_name</th>\n",
       "      <th>games</th>\n",
       "      <th>sport</th>\n",
       "      <th>event</th>\n",
       "    </tr>\n",
       "  </thead>\n",
       "  <tbody>\n",
       "    <tr>\n",
       "      <th>0</th>\n",
       "      <td>3</td>\n",
       "      <td>Afghanistan</td>\n",
       "      <td>Rohullah NIKPAI</td>\n",
       "      <td>China</td>\n",
       "      <td>Taekwondo</td>\n",
       "      <td>- 58 kg</td>\n",
       "    </tr>\n",
       "    <tr>\n",
       "      <th>1</th>\n",
       "      <td>3</td>\n",
       "      <td>Afghanistan</td>\n",
       "      <td>Rohullah NIKPAI</td>\n",
       "      <td>Great Britain</td>\n",
       "      <td>Taekwondo</td>\n",
       "      <td>58 - 68 kg</td>\n",
       "    </tr>\n",
       "    <tr>\n",
       "      <th>2</th>\n",
       "      <td>3</td>\n",
       "      <td>Algeria</td>\n",
       "      <td>Mohamed ZAOUI</td>\n",
       "      <td>United States</td>\n",
       "      <td>Boxing</td>\n",
       "      <td>71 - 75kg (middleweight)</td>\n",
       "    </tr>\n",
       "    <tr>\n",
       "      <th>3</th>\n",
       "      <td>3</td>\n",
       "      <td>Algeria</td>\n",
       "      <td>Mustapha MOUSSA</td>\n",
       "      <td>United States</td>\n",
       "      <td>Boxing</td>\n",
       "      <td>75 - 81kg (light-heavyweight)</td>\n",
       "    </tr>\n",
       "    <tr>\n",
       "      <th>4</th>\n",
       "      <td>1</td>\n",
       "      <td>Algeria</td>\n",
       "      <td>Hassiba BOULMERKA</td>\n",
       "      <td>Spain</td>\n",
       "      <td>Athletics</td>\n",
       "      <td>1500m</td>\n",
       "    </tr>\n",
       "  </tbody>\n",
       "</table>\n",
       "</div>"
      ],
      "text/plain": [
       "   medal      country       athlete_name          games      sport  \\\n",
       "0      3  Afghanistan    Rohullah NIKPAI          China  Taekwondo   \n",
       "1      3  Afghanistan    Rohullah NIKPAI  Great Britain  Taekwondo   \n",
       "2      3      Algeria      Mohamed ZAOUI  United States     Boxing   \n",
       "3      3      Algeria    Mustapha MOUSSA  United States     Boxing   \n",
       "4      1      Algeria  Hassiba BOULMERKA          Spain  Athletics   \n",
       "\n",
       "                           event  \n",
       "0                        - 58 kg  \n",
       "1                     58 - 68 kg  \n",
       "2       71 - 75kg (middleweight)  \n",
       "3  75 - 81kg (light-heavyweight)  \n",
       "4                          1500m  "
      ]
     },
     "execution_count": 20,
     "metadata": {},
     "output_type": "execute_result"
    }
   ],
   "source": [
    "df_ascii.head(5)"
   ]
  },
  {
   "cell_type": "markdown",
   "id": "729554d8-a650-4b06-b8e5-ad4ab822e448",
   "metadata": {},
   "source": [
    "<div style=\"background-color:#01A652;padding:0px; color:white;\">\n",
    "    <h4 style=\"padding-left: 40px;\">Table non ASCII</h3>\n",
    "</div>"
   ]
  },
  {
   "cell_type": "code",
   "execution_count": 21,
   "id": "17194093-ffc1-459f-bad5-7831cbaf1151",
   "metadata": {},
   "outputs": [
    {
     "data": {
      "text/html": [
       "<div>\n",
       "<style scoped>\n",
       "    .dataframe tbody tr th:only-of-type {\n",
       "        vertical-align: middle;\n",
       "    }\n",
       "\n",
       "    .dataframe tbody tr th {\n",
       "        vertical-align: top;\n",
       "    }\n",
       "\n",
       "    .dataframe thead th {\n",
       "        text-align: right;\n",
       "    }\n",
       "</style>\n",
       "<table border=\"1\" class=\"dataframe\">\n",
       "  <thead>\n",
       "    <tr style=\"text-align: right;\">\n",
       "      <th></th>\n",
       "      <th>medal</th>\n",
       "      <th>country</th>\n",
       "      <th>athlete_name</th>\n",
       "      <th>games</th>\n",
       "      <th>sport</th>\n",
       "      <th>event</th>\n",
       "    </tr>\n",
       "  </thead>\n",
       "  <tbody>\n",
       "    <tr>\n",
       "      <th>6</th>\n",
       "      <td>1</td>\n",
       "      <td>Algeria</td>\n",
       "      <td>Морсели</td>\n",
       "      <td>United States</td>\n",
       "      <td>Athletics</td>\n",
       "      <td>1500m</td>\n",
       "    </tr>\n",
       "    <tr>\n",
       "      <th>7</th>\n",
       "      <td>1</td>\n",
       "      <td>Algeria</td>\n",
       "      <td>Солтани</td>\n",
       "      <td>United States</td>\n",
       "      <td>Boxing</td>\n",
       "      <td>57 - 60kg (lightweight)</td>\n",
       "    </tr>\n",
       "    <tr>\n",
       "      <th>8</th>\n",
       "      <td>3</td>\n",
       "      <td>Algeria</td>\n",
       "      <td>Бахари</td>\n",
       "      <td>United States</td>\n",
       "      <td>Boxing</td>\n",
       "      <td>71 - 75kg (middleweight)</td>\n",
       "    </tr>\n",
       "    <tr>\n",
       "      <th>9</th>\n",
       "      <td>1</td>\n",
       "      <td>Algeria</td>\n",
       "      <td>Нурия Мерах-Бенида</td>\n",
       "      <td>Australia</td>\n",
       "      <td>Athletics</td>\n",
       "      <td>1500m</td>\n",
       "    </tr>\n",
       "    <tr>\n",
       "      <th>10</th>\n",
       "      <td>2</td>\n",
       "      <td>Algeria</td>\n",
       "      <td>Али Саид-Сиф</td>\n",
       "      <td>Australia</td>\n",
       "      <td>Athletics</td>\n",
       "      <td>5000m</td>\n",
       "    </tr>\n",
       "  </tbody>\n",
       "</table>\n",
       "</div>"
      ],
      "text/plain": [
       "    medal  country        athlete_name          games      sport  \\\n",
       "6       1  Algeria             Морсели  United States  Athletics   \n",
       "7       1  Algeria             Солтани  United States     Boxing   \n",
       "8       3  Algeria              Бахари  United States     Boxing   \n",
       "9       1  Algeria  Нурия Мерах-Бенида      Australia  Athletics   \n",
       "10      2  Algeria        Али Саид-Сиф      Australia  Athletics   \n",
       "\n",
       "                       event  \n",
       "6                      1500m  \n",
       "7    57 - 60kg (lightweight)  \n",
       "8   71 - 75kg (middleweight)  \n",
       "9                      1500m  \n",
       "10                     5000m  "
      ]
     },
     "execution_count": 21,
     "metadata": {},
     "output_type": "execute_result"
    }
   ],
   "source": [
    "df_non_ascii.head(5)"
   ]
  },
  {
   "cell_type": "code",
   "execution_count": 22,
   "id": "28d5d8be-88df-412a-91c3-abc11fed8c47",
   "metadata": {},
   "outputs": [
    {
     "name": "stdout",
     "output_type": "stream",
     "text": [
      "Erreur : Can't detect language for the text \"Oscar VARONARuperto HERRERA TABIOFranklin STANDARDTomas HERRERA MARTINEZPedro CHAPPE GARCIARafael CANIZARES POEYJuan DOMECQConrado PEREZ ARMENTEROSMiguel CALDERON GOMEZJuan ROCAAlejandro URGELLÉSJose Miguel ALVAREZ POZO\" given.\n"
     ]
    }
   ],
   "source": [
    "from transliterate import translit\n",
    "\n",
    "try:\n",
    "    df_non_ascii.athlete_name = df_non_ascii.athlete_name.apply(lambda s: translit(s, reversed=True))\n",
    "except Exception as e:\n",
    "    print(f\"Erreur : {e}\")\n",
    "\n",
    "# Ce bloc permet de capturer toute exception qui pourrait se produire lors de l'exécution de la fonction translit.\n",
    "# Si une erreur se produit, elle est affichée et l'exécution continue sans interruption."
   ]
  },
  {
   "cell_type": "markdown",
   "id": "3a1c1bf7-8eef-4be8-b6e7-cc49bc790c4d",
   "metadata": {},
   "source": [
    "\\\n",
    "**Ici on a une erreur qu'on a gardé car elle nous permet de comprendre loù il y a une erreur et de cibler cette erreur** "
   ]
  },
  {
   "cell_type": "code",
   "execution_count": 23,
   "id": "ef027a00-f1a1-4f34-9464-52c37f05a4cc",
   "metadata": {},
   "outputs": [
    {
     "name": "stdout",
     "output_type": "stream",
     "text": [
      "É\n"
     ]
    }
   ],
   "source": [
    "strings = df_non_ascii[df_non_ascii[\"athlete_name\"]==\"Oscar VARONARuperto HERRERA TABIOFranklin STANDARDTomas HERRERA MARTINEZPedro CHAPPE GARCIARafael CANIZARES POEYJuan DOMECQConrado PEREZ ARMENTEROSMiguel CALDERON GOMEZJuan ROCAAlejandro URGELLÉSJose Miguel ALVAREZ POZO\"][\"athlete_name\"].item()\n",
    "\n",
    "#list_decimal = []\n",
    "\n",
    "for i,char in enumerate(strings):\n",
    "    if ord(char) > 127 :\n",
    "        print(strings[i])\n",
    "    #list_decimal.append(ord(char))"
   ]
  },
  {
   "cell_type": "markdown",
   "id": "3fa89c34-97e7-4cd2-a110-23cc588a2703",
   "metadata": {},
   "source": [
    "<div style=\"background-color:#01A652;padding:0px; color:white;\">\n",
    "    <h4 style=\"padding-left: 40px;\">Creer un dataframe avec tous les athletes qui rencontre une erreur </h3>\n",
    "</div>"
   ]
  },
  {
   "cell_type": "markdown",
   "id": "a6750482",
   "metadata": {},
   "source": [
    "Transliterate va convertir le langage non latin en latin"
   ]
  },
  {
   "cell_type": "code",
   "execution_count": 24,
   "id": "75b2c157-a821-43f7-a010-2bd9e832926c",
   "metadata": {},
   "outputs": [
    {
     "name": "stderr",
     "output_type": "stream",
     "text": [
      "C:\\Users\\Moune\\AppData\\Local\\Temp\\ipykernel_70916\\2425192484.py:12: SettingWithCopyWarning: \n",
      "A value is trying to be set on a copy of a slice from a DataFrame.\n",
      "Try using .loc[row_indexer,col_indexer] = value instead\n",
      "\n",
      "See the caveats in the documentation: https://pandas.pydata.org/pandas-docs/stable/user_guide/indexing.html#returning-a-view-versus-a-copy\n",
      "  df_non_ascii['athlete_name'] = df_non_ascii['athlete_name'].apply(safe_translit)\n"
     ]
    }
   ],
   "source": [
    "from transliterate import translit \n",
    "errors = []\n",
    "# Définir une fonction appelée safe_translit \n",
    "# entre parenthèse on met les arguments en entrée\n",
    "\n",
    "def safe_translit(s):\n",
    "    try:\n",
    "        return translit(s, reversed=True)\n",
    "    except Exception as e:\n",
    "        errors.append({'athlete_name': s, 'error': str(e)})\n",
    "        return s  # Return the original string if there's an error\n",
    "\n",
    "# Apply the safe_translit function to the athlete_name column\n",
    "df_non_ascii['athlete_name'] = df_non_ascii['athlete_name'].apply(safe_translit)\n"
   ]
  },
  {
   "cell_type": "markdown",
   "id": "7262da96-6351-4b0b-9fa6-065a8c64de73",
   "metadata": {},
   "source": [
    "**Le code a pour objectif de :**\n",
    "\n",
    "- Translittérer les noms des athlètes en utilisant une approche sécurisée qui ne casse pas le flux d'exécution en cas d'erreur.\n",
    "- Capturer et enregistrer les erreurs rencontrées pendant la translittération pour permettre une inspection et une correction ultérieure.re."
   ]
  },
  {
   "cell_type": "code",
   "execution_count": 25,
   "id": "6d116360-31bd-4619-82ea-113cfd23b627",
   "metadata": {},
   "outputs": [
    {
     "data": {
      "text/html": [
       "<div>\n",
       "<style scoped>\n",
       "    .dataframe tbody tr th:only-of-type {\n",
       "        vertical-align: middle;\n",
       "    }\n",
       "\n",
       "    .dataframe tbody tr th {\n",
       "        vertical-align: top;\n",
       "    }\n",
       "\n",
       "    .dataframe thead th {\n",
       "        text-align: right;\n",
       "    }\n",
       "</style>\n",
       "<table border=\"1\" class=\"dataframe\">\n",
       "  <thead>\n",
       "    <tr style=\"text-align: right;\">\n",
       "      <th></th>\n",
       "      <th>athlete_name</th>\n",
       "      <th>error</th>\n",
       "    </tr>\n",
       "  </thead>\n",
       "  <tbody>\n",
       "    <tr>\n",
       "      <th>0</th>\n",
       "      <td>Oscar VARONARuperto HERRERA TABIOFranklin STAN...</td>\n",
       "      <td>Can't detect language for the text \"Oscar VARO...</td>\n",
       "    </tr>\n",
       "    <tr>\n",
       "      <th>1</th>\n",
       "      <td>Marek Švec</td>\n",
       "      <td>Can't detect language for the text \"Marek Švec...</td>\n",
       "    </tr>\n",
       "    <tr>\n",
       "      <th>2</th>\n",
       "      <td>Timo JUTILAJanne OJANENJanne LAUKKANENRaimo HE...</td>\n",
       "      <td>Can't detect language for the text \"Timo JUTIL...</td>\n",
       "    </tr>\n",
       "    <tr>\n",
       "      <th>3</th>\n",
       "      <td>Karel HEIJTINGJohan Eduard SOLEmil Gustav MUND...</td>\n",
       "      <td>Can't detect language for the text \"Karel HEIJ...</td>\n",
       "    </tr>\n",
       "    <tr>\n",
       "      <th>4</th>\n",
       "      <td>Gheorghiță Ștefan</td>\n",
       "      <td>Can't detect language for the text \"Gheorghiță...</td>\n",
       "    </tr>\n",
       "    <tr>\n",
       "      <th>5</th>\n",
       "      <td>Stefan LIVDaniel SEDINMikael SAMUELSSONHenrik ...</td>\n",
       "      <td>Can't detect language for the text \"Stefan LIV...</td>\n",
       "    </tr>\n",
       "    <tr>\n",
       "      <th>6</th>\n",
       "      <td>Jeffrey HYMANSONFranklynn SANDERSTimothy SHEEH...</td>\n",
       "      <td>Can't detect language for the text \"Jeffrey HY...</td>\n",
       "    </tr>\n",
       "    <tr>\n",
       "      <th>7</th>\n",
       "      <td>ENGLISH Amber Shooting United States of America</td>\n",
       "      <td>Can't detect language for the text \"ENGLISH Am...</td>\n",
       "    </tr>\n",
       "    <tr>\n",
       "      <th>8</th>\n",
       "      <td>Karl-Joachim HURTERAndreas KELLERMarkku SLAWYK...</td>\n",
       "      <td>Can't detect language for the text \"Karl-Joach...</td>\n",
       "    </tr>\n",
       "    <tr>\n",
       "      <th>9</th>\n",
       "      <td>Aleksandr VolkovSergei TarakanovIgors Miglinie...</td>\n",
       "      <td>Can't detect language for the text \"Aleksandr ...</td>\n",
       "    </tr>\n",
       "    <tr>\n",
       "      <th>10</th>\n",
       "      <td>Thomas COE (GBR)William Henry (GBR)Frederick S...</td>\n",
       "      <td>Can't detect language for the text \"Thomas COE...</td>\n",
       "    </tr>\n",
       "    <tr>\n",
       "      <th>11</th>\n",
       "      <td>Ernest MOREAU De Melen (BEL)Hilaire Frederik S...</td>\n",
       "      <td>Can't detect language for the text \"Ernest MOR...</td>\n",
       "    </tr>\n",
       "  </tbody>\n",
       "</table>\n",
       "</div>"
      ],
      "text/plain": [
       "                                         athlete_name  \\\n",
       "0   Oscar VARONARuperto HERRERA TABIOFranklin STAN...   \n",
       "1                                          Marek Švec   \n",
       "2   Timo JUTILAJanne OJANENJanne LAUKKANENRaimo HE...   \n",
       "3   Karel HEIJTINGJohan Eduard SOLEmil Gustav MUND...   \n",
       "4                                   Gheorghiță Ștefan   \n",
       "5   Stefan LIVDaniel SEDINMikael SAMUELSSONHenrik ...   \n",
       "6   Jeffrey HYMANSONFranklynn SANDERSTimothy SHEEH...   \n",
       "7     ENGLISH Amber Shooting United States of America   \n",
       "8   Karl-Joachim HURTERAndreas KELLERMarkku SLAWYK...   \n",
       "9   Aleksandr VolkovSergei TarakanovIgors Miglinie...   \n",
       "10  Thomas COE (GBR)William Henry (GBR)Frederick S...   \n",
       "11  Ernest MOREAU De Melen (BEL)Hilaire Frederik S...   \n",
       "\n",
       "                                                error  \n",
       "0   Can't detect language for the text \"Oscar VARO...  \n",
       "1   Can't detect language for the text \"Marek Švec...  \n",
       "2   Can't detect language for the text \"Timo JUTIL...  \n",
       "3   Can't detect language for the text \"Karel HEIJ...  \n",
       "4   Can't detect language for the text \"Gheorghiță...  \n",
       "5   Can't detect language for the text \"Stefan LIV...  \n",
       "6   Can't detect language for the text \"Jeffrey HY...  \n",
       "7   Can't detect language for the text \"ENGLISH Am...  \n",
       "8   Can't detect language for the text \"Karl-Joach...  \n",
       "9   Can't detect language for the text \"Aleksandr ...  \n",
       "10  Can't detect language for the text \"Thomas COE...  \n",
       "11  Can't detect language for the text \"Ernest MOR...  "
      ]
     },
     "execution_count": 25,
     "metadata": {},
     "output_type": "execute_result"
    }
   ],
   "source": [
    "df_errors = pd.DataFrame(errors)\n",
    "df_errors"
   ]
  }
 ],
 "metadata": {
  "kernelspec": {
   "display_name": "Python 3 (ipykernel)",
   "language": "python",
   "name": "python3"
  },
  "language_info": {
   "codemirror_mode": {
    "name": "ipython",
    "version": 3
   },
   "file_extension": ".py",
   "mimetype": "text/x-python",
   "name": "python",
   "nbconvert_exporter": "python",
   "pygments_lexer": "ipython3",
   "version": "3.9.13"
  },
  "widgets": {
   "application/vnd.jupyter.widget-state+json": {
    "state": {},
    "version_major": 2,
    "version_minor": 0
   }
  }
 },
 "nbformat": 4,
 "nbformat_minor": 5
}
